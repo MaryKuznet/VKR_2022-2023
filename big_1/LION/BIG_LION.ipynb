{
 "cells": [
  {
   "cell_type": "code",
   "execution_count": 2,
   "id": "8b0cfb42-6037-48ad-9dd8-ccbe704e0014",
   "metadata": {
    "execution": {
     "iopub.execute_input": "2023-04-16T19:31:04.651315Z",
     "iopub.status.busy": "2023-04-16T19:31:04.650637Z",
     "iopub.status.idle": "2023-04-16T19:31:06.738437Z",
     "shell.execute_reply": "2023-04-16T19:31:06.737776Z",
     "shell.execute_reply.started": "2023-04-16T19:31:04.651280Z"
    }
   },
   "outputs": [
    {
     "name": "stdout",
     "output_type": "stream",
     "text": [
      "Looking in indexes: https://pypi.org/simple, https://pypi.ngc.nvidia.com\n",
      "Requirement already satisfied: lion-pytorch in /opt/conda/lib/python3.8/site-packages (0.0.7)\n",
      "Requirement already satisfied: torch>=1.6 in /opt/conda/lib/python3.8/site-packages (from lion-pytorch) (1.11.0a0+17540c5)\n",
      "Requirement already satisfied: typing_extensions in /opt/conda/lib/python3.8/site-packages (from torch>=1.6->lion-pytorch) (4.0.1)\n",
      "\u001b[33mWARNING: Running pip as the 'root' user can result in broken permissions and conflicting behaviour with the system package manager. It is recommended to use a virtual environment instead: https://pip.pypa.io/warnings/venv\u001b[0m\n"
     ]
    }
   ],
   "source": [
    "!pip install lion-pytorch"
   ]
  },
  {
   "cell_type": "code",
   "execution_count": 3,
   "id": "3b4b62cc-90dd-42d0-a859-9ef25a6315a2",
   "metadata": {
    "execution": {
     "iopub.execute_input": "2023-04-16T19:31:08.775244Z",
     "iopub.status.busy": "2023-04-16T19:31:08.774599Z",
     "iopub.status.idle": "2023-04-16T19:31:11.050992Z",
     "shell.execute_reply": "2023-04-16T19:31:11.050375Z",
     "shell.execute_reply.started": "2023-04-16T19:31:08.775208Z"
    }
   },
   "outputs": [],
   "source": [
    "import torch\n",
    "import torchvision\n",
    "import torchvision.transforms as transforms\n",
    "import numpy as np\n",
    "import random\n",
    "from itertools import product\n",
    "from torch import tensor\n",
    "import pickle\n",
    "import time\n",
    "from lion_pytorch import Lion\n",
    "from tqdm import tqdm"
   ]
  },
  {
   "cell_type": "code",
   "execution_count": 4,
   "id": "6aded055-9db0-43d3-9040-dc7f3f73601d",
   "metadata": {
    "execution": {
     "iopub.execute_input": "2023-04-16T19:31:12.839740Z",
     "iopub.status.busy": "2023-04-16T19:31:12.838914Z",
     "iopub.status.idle": "2023-04-16T19:31:12.846151Z",
     "shell.execute_reply": "2023-04-16T19:31:12.845575Z",
     "shell.execute_reply.started": "2023-04-16T19:31:12.839705Z"
    }
   },
   "outputs": [],
   "source": [
    "random.seed(0)\n",
    "np.random.seed(0)\n",
    "torch.manual_seed(0)\n",
    "torch.cuda.manual_seed(0)\n",
    "torch.backends.cudnn.deterministic = True"
   ]
  },
  {
   "cell_type": "code",
   "execution_count": 5,
   "id": "0034bcc0-8b1e-4b45-b47e-f94bdd270748",
   "metadata": {
    "execution": {
     "iopub.execute_input": "2023-04-16T19:31:14.382811Z",
     "iopub.status.busy": "2023-04-16T19:31:14.382313Z",
     "iopub.status.idle": "2023-04-16T19:31:17.509556Z",
     "shell.execute_reply": "2023-04-16T19:31:17.509022Z",
     "shell.execute_reply.started": "2023-04-16T19:31:14.382781Z"
    }
   },
   "outputs": [
    {
     "name": "stdout",
     "output_type": "stream",
     "text": [
      "Files already downloaded and verified\n",
      "Files already downloaded and verified\n"
     ]
    }
   ],
   "source": [
    "transform = transforms.Compose(\n",
    "    [transforms.ToTensor(),\n",
    "     transforms.Normalize((0.5, 0.5, 0.5), (0.5, 0.5, 0.5))])\n",
    "\n",
    "batch_size = 100\n",
    "\n",
    "trainset = torchvision.datasets.CIFAR10(root='./data', train=True,\n",
    "                                        download=True, transform=transform)\n",
    "trainloader = torch.utils.data.DataLoader(trainset, batch_size=batch_size,\n",
    "                                          shuffle=True, num_workers=2)\n",
    "\n",
    "testset = torchvision.datasets.CIFAR10(root='./data', train=False,\n",
    "                                       download=True, transform=transform)\n",
    "testloader = torch.utils.data.DataLoader(testset, batch_size=batch_size,\n",
    "                                         shuffle=False, num_workers=2)"
   ]
  },
  {
   "cell_type": "code",
   "execution_count": 6,
   "id": "a501536a-90d7-46ae-a93a-11203f844641",
   "metadata": {
    "execution": {
     "iopub.execute_input": "2023-04-16T19:31:17.510727Z",
     "iopub.status.busy": "2023-04-16T19:31:17.510577Z",
     "iopub.status.idle": "2023-04-16T19:31:17.519938Z",
     "shell.execute_reply": "2023-04-16T19:31:17.519453Z",
     "shell.execute_reply.started": "2023-04-16T19:31:17.510711Z"
    }
   },
   "outputs": [],
   "source": [
    "trainset, valset = torch.utils.data.random_split(trainset, [45000, 5000])\n",
    "trainloader = torch.utils.data.DataLoader(trainset, batch_size=batch_size,\n",
    "                                          shuffle=True, num_workers=2)\n",
    "valloader = torch.utils.data.DataLoader(valset, batch_size=batch_size,\n",
    "                                          shuffle=True, num_workers=2)"
   ]
  },
  {
   "cell_type": "code",
   "execution_count": 7,
   "id": "64f7133d-20b5-4845-8481-c8b39532920b",
   "metadata": {
    "execution": {
     "iopub.execute_input": "2023-04-16T19:31:21.224499Z",
     "iopub.status.busy": "2023-04-16T19:31:21.223748Z",
     "iopub.status.idle": "2023-04-16T19:31:23.731472Z",
     "shell.execute_reply": "2023-04-16T19:31:23.730982Z",
     "shell.execute_reply.started": "2023-04-16T19:31:21.224474Z"
    }
   },
   "outputs": [],
   "source": [
    "resume = True\n",
    "\n",
    "if resume: \n",
    "    with open('lion_big_results.pkl', 'rb') as f:\n",
    "        arr = pickle.load(f)\n",
    "        test_accuracy_history_lion = arr[\"acc\"]\n",
    "        test_loss_history_lion = arr[\"loss\"]\n",
    "        loss_in_training_lion = arr[\"loss_train\"]\n",
    "        time_learning_lion = arr[\"time\"]\n",
    "else:\n",
    "    test_accuracy_history_lion, test_loss_history_lion, loss_in_training_lion, time_learning_lion = {}, {}, {}, {}"
   ]
  },
  {
   "cell_type": "code",
   "execution_count": 8,
   "id": "182e2dc8-c8b6-4977-bcd7-678e4238b312",
   "metadata": {
    "execution": {
     "iopub.execute_input": "2023-04-16T19:31:23.733009Z",
     "iopub.status.busy": "2023-04-16T19:31:23.732315Z",
     "iopub.status.idle": "2023-04-16T19:31:23.740531Z",
     "shell.execute_reply": "2023-04-16T19:31:23.740184Z",
     "shell.execute_reply.started": "2023-04-16T19:31:23.732999Z"
    }
   },
   "outputs": [
    {
     "data": {
      "text/plain": [
       "{(0.0001, 0.001): [0.664,\n",
       "  0.757,\n",
       "  0.7956,\n",
       "  0.8056,\n",
       "  0.8194,\n",
       "  0.8096,\n",
       "  0.8218,\n",
       "  0.8204,\n",
       "  0.823,\n",
       "  0.8212,\n",
       "  0.8256,\n",
       "  0.8272,\n",
       "  0.8234,\n",
       "  0.8282,\n",
       "  0.8268,\n",
       "  0.8316,\n",
       "  0.8236,\n",
       "  0.827,\n",
       "  0.8266,\n",
       "  0.8286],\n",
       " (0.0001, 0.01): [0.6432,\n",
       "  0.747,\n",
       "  0.8002,\n",
       "  0.8092,\n",
       "  0.8208,\n",
       "  0.8152,\n",
       "  0.8204,\n",
       "  0.8242,\n",
       "  0.8162,\n",
       "  0.829,\n",
       "  0.8218,\n",
       "  0.831,\n",
       "  0.8272,\n",
       "  0.8332,\n",
       "  0.836,\n",
       "  0.8274,\n",
       "  0.83,\n",
       "  0.8332,\n",
       "  0.8324,\n",
       "  0.83],\n",
       " (0.0001, 0): [0.6428,\n",
       "  0.7604,\n",
       "  0.8014,\n",
       "  0.816,\n",
       "  0.8184,\n",
       "  0.8162,\n",
       "  0.8208,\n",
       "  0.8222,\n",
       "  0.824,\n",
       "  0.8236,\n",
       "  0.8232,\n",
       "  0.8248,\n",
       "  0.8202,\n",
       "  0.8258,\n",
       "  0.8306,\n",
       "  0.8248,\n",
       "  0.8284,\n",
       "  0.8254,\n",
       "  0.8328,\n",
       "  0.8268],\n",
       " (0.001, 0.001): [0.6136,\n",
       "  0.7072,\n",
       "  0.7718,\n",
       "  0.7976,\n",
       "  0.8156,\n",
       "  0.8236,\n",
       "  0.8176,\n",
       "  0.824,\n",
       "  0.828,\n",
       "  0.8232,\n",
       "  0.8208,\n",
       "  0.827,\n",
       "  0.8298,\n",
       "  0.8248,\n",
       "  0.8288,\n",
       "  0.8298,\n",
       "  0.8274,\n",
       "  0.829,\n",
       "  0.8276,\n",
       "  0.831],\n",
       " (0.001, 0.01): [0.6396,\n",
       "  0.7202,\n",
       "  0.7712,\n",
       "  0.804,\n",
       "  0.8196,\n",
       "  0.8232,\n",
       "  0.8286,\n",
       "  0.8292,\n",
       "  0.8358,\n",
       "  0.8168,\n",
       "  0.826,\n",
       "  0.8324,\n",
       "  0.8302,\n",
       "  0.8278,\n",
       "  0.8222,\n",
       "  0.8252,\n",
       "  0.8322,\n",
       "  0.8252,\n",
       "  0.8308,\n",
       "  0.8448],\n",
       " (0.001, 0): [0.6124,\n",
       "  0.7144,\n",
       "  0.7572,\n",
       "  0.7892,\n",
       "  0.8076,\n",
       "  0.812,\n",
       "  0.824,\n",
       "  0.8244,\n",
       "  0.8234,\n",
       "  0.825,\n",
       "  0.829,\n",
       "  0.8258,\n",
       "  0.8294,\n",
       "  0.829,\n",
       "  0.8226,\n",
       "  0.8316,\n",
       "  0.8378,\n",
       "  0.824,\n",
       "  0.825,\n",
       "  0.829],\n",
       " (0.01, 0.001): [0.4242,\n",
       "  0.5278,\n",
       "  0.6104,\n",
       "  0.6546,\n",
       "  0.6808,\n",
       "  0.704,\n",
       "  0.7362,\n",
       "  0.7428,\n",
       "  0.7396,\n",
       "  0.7602,\n",
       "  0.5692,\n",
       "  0.6894,\n",
       "  0.7464,\n",
       "  0.7532,\n",
       "  0.7532,\n",
       "  0.7598,\n",
       "  0.7694,\n",
       "  0.7526,\n",
       "  0.767,\n",
       "  0.7634],\n",
       " (0.01, 0.01): [0.4702,\n",
       "  0.6014,\n",
       "  0.6676,\n",
       "  0.7054,\n",
       "  0.7426,\n",
       "  0.7474,\n",
       "  0.7626,\n",
       "  0.778,\n",
       "  0.7844,\n",
       "  0.7852,\n",
       "  0.7736,\n",
       "  0.7862,\n",
       "  0.7768,\n",
       "  0.7792,\n",
       "  0.794,\n",
       "  0.7864,\n",
       "  0.7872,\n",
       "  0.7928,\n",
       "  0.7938,\n",
       "  0.7918],\n",
       " (0.01, 0): [0.4606,\n",
       "  0.5924,\n",
       "  0.6654,\n",
       "  0.6938,\n",
       "  0.7198,\n",
       "  0.744,\n",
       "  0.7556,\n",
       "  0.758,\n",
       "  0.7648,\n",
       "  0.7538,\n",
       "  0.759,\n",
       "  0.763,\n",
       "  0.7566,\n",
       "  0.7668,\n",
       "  0.77,\n",
       "  0.7726,\n",
       "  0.4362,\n",
       "  0.483,\n",
       "  0.5946,\n",
       "  0.678],\n",
       " 'schedule_0.001': [0.6494,\n",
       "  0.7388,\n",
       "  0.785,\n",
       "  0.8102,\n",
       "  0.8266,\n",
       "  0.818,\n",
       "  0.8242,\n",
       "  0.8288,\n",
       "  0.8258,\n",
       "  0.8288,\n",
       "  0.8338,\n",
       "  0.8432,\n",
       "  0.8408,\n",
       "  0.8412,\n",
       "  0.8416,\n",
       "  0.8368,\n",
       "  0.8508,\n",
       "  0.8492,\n",
       "  0.8516,\n",
       "  0.849]}"
      ]
     },
     "execution_count": 8,
     "metadata": {},
     "output_type": "execute_result"
    }
   ],
   "source": [
    "test_accuracy_history_lion"
   ]
  },
  {
   "cell_type": "code",
   "execution_count": null,
   "id": "58c37783-ed28-4dd5-8e18-3e8d98569cf6",
   "metadata": {
    "execution": {
     "iopub.execute_input": "2023-04-09T17:09:01.022807Z",
     "iopub.status.busy": "2023-04-09T17:09:01.022264Z"
    }
   },
   "outputs": [
    {
     "name": "stderr",
     "output_type": "stream",
     "text": [
      "  0%|          | 0/20 [00:00<?, ?it/s]"
     ]
    },
    {
     "name": "stdout",
     "output_type": "stream",
     "text": [
      "1.4948335496584575\n"
     ]
    },
    {
     "name": "stderr",
     "output_type": "stream",
     "text": [
      "  5%|▌         | 1/20 [00:18<05:59, 18.94s/it]"
     ]
    },
    {
     "name": "stdout",
     "output_type": "stream",
     "text": [
      "los epoch 0 : tensor(0.9579, device='cuda:0')\n",
      "accuracy epoch 0 : 0.664\n",
      "0.7810714642869102\n"
     ]
    },
    {
     "name": "stderr",
     "output_type": "stream",
     "text": [
      " 10%|█         | 2/20 [00:37<05:41, 19.00s/it]"
     ]
    },
    {
     "name": "stdout",
     "output_type": "stream",
     "text": [
      "los epoch 1 : tensor(0.7030, device='cuda:0')\n",
      "accuracy epoch 1 : 0.757\n",
      "0.5484770649009281\n"
     ]
    },
    {
     "name": "stderr",
     "output_type": "stream",
     "text": [
      " 15%|█▌        | 3/20 [00:57<05:23, 19.05s/it]"
     ]
    },
    {
     "name": "stdout",
     "output_type": "stream",
     "text": [
      "los epoch 2 : tensor(0.5986, device='cuda:0')\n",
      "accuracy epoch 2 : 0.7956\n",
      "0.3936531255642573\n"
     ]
    },
    {
     "name": "stderr",
     "output_type": "stream",
     "text": [
      " 20%|██        | 4/20 [01:16<05:06, 19.15s/it]"
     ]
    },
    {
     "name": "stdout",
     "output_type": "stream",
     "text": [
      "los epoch 3 : tensor(0.5907, device='cuda:0')\n",
      "accuracy epoch 3 : 0.8056\n",
      "0.28188190284702513\n"
     ]
    },
    {
     "name": "stderr",
     "output_type": "stream",
     "text": [
      " 25%|██▌       | 5/20 [01:35<04:48, 19.24s/it]"
     ]
    },
    {
     "name": "stdout",
     "output_type": "stream",
     "text": [
      "los epoch 4 : tensor(0.5812, device='cuda:0')\n",
      "accuracy epoch 4 : 0.8194\n",
      "0.19442464122341738\n"
     ]
    },
    {
     "name": "stderr",
     "output_type": "stream",
     "text": [
      " 30%|███       | 6/20 [01:55<04:29, 19.27s/it]"
     ]
    },
    {
     "name": "stdout",
     "output_type": "stream",
     "text": [
      "los epoch 5 : tensor(0.6601, device='cuda:0')\n",
      "accuracy epoch 5 : 0.8096\n",
      "0.15143183607194158\n"
     ]
    },
    {
     "name": "stderr",
     "output_type": "stream",
     "text": [
      " 35%|███▌      | 7/20 [02:14<04:10, 19.30s/it]"
     ]
    },
    {
     "name": "stdout",
     "output_type": "stream",
     "text": [
      "los epoch 6 : tensor(0.6705, device='cuda:0')\n",
      "accuracy epoch 6 : 0.8218\n",
      "0.1196470176262988\n"
     ]
    },
    {
     "name": "stderr",
     "output_type": "stream",
     "text": [
      " 40%|████      | 8/20 [02:33<03:51, 19.32s/it]"
     ]
    },
    {
     "name": "stdout",
     "output_type": "stream",
     "text": [
      "los epoch 7 : tensor(0.7211, device='cuda:0')\n",
      "accuracy epoch 7 : 0.8204\n",
      "0.10402663320716884\n"
     ]
    },
    {
     "name": "stderr",
     "output_type": "stream",
     "text": [
      " 45%|████▌     | 9/20 [02:53<03:32, 19.31s/it]"
     ]
    },
    {
     "name": "stdout",
     "output_type": "stream",
     "text": [
      "los epoch 8 : tensor(0.7748, device='cuda:0')\n",
      "accuracy epoch 8 : 0.823\n",
      "0.08982768959055344\n"
     ]
    },
    {
     "name": "stderr",
     "output_type": "stream",
     "text": [
      " 50%|█████     | 10/20 [03:12<03:13, 19.31s/it]"
     ]
    },
    {
     "name": "stdout",
     "output_type": "stream",
     "text": [
      "los epoch 9 : tensor(0.7619, device='cuda:0')\n",
      "accuracy epoch 9 : 0.8212\n",
      "0.08162551867465179\n"
     ]
    },
    {
     "name": "stderr",
     "output_type": "stream",
     "text": [
      " 55%|█████▌    | 11/20 [03:31<02:53, 19.30s/it]"
     ]
    },
    {
     "name": "stdout",
     "output_type": "stream",
     "text": [
      "los epoch 10 : tensor(0.7876, device='cuda:0')\n",
      "accuracy epoch 10 : 0.8256\n",
      "0.07542739828634593\n"
     ]
    },
    {
     "name": "stderr",
     "output_type": "stream",
     "text": [
      " 60%|██████    | 12/20 [03:51<02:34, 19.31s/it]"
     ]
    },
    {
     "name": "stdout",
     "output_type": "stream",
     "text": [
      "los epoch 11 : tensor(0.8151, device='cuda:0')\n",
      "accuracy epoch 11 : 0.8272\n",
      "0.07017479403668808\n"
     ]
    },
    {
     "name": "stderr",
     "output_type": "stream",
     "text": [
      " 65%|██████▌   | 13/20 [04:10<02:15, 19.31s/it]"
     ]
    },
    {
     "name": "stdout",
     "output_type": "stream",
     "text": [
      "los epoch 12 : tensor(0.8250, device='cuda:0')\n",
      "accuracy epoch 12 : 0.8234\n",
      "0.06228509718707452\n"
     ]
    },
    {
     "name": "stderr",
     "output_type": "stream",
     "text": [
      " 70%|███████   | 14/20 [04:29<01:56, 19.33s/it]"
     ]
    },
    {
     "name": "stdout",
     "output_type": "stream",
     "text": [
      "los epoch 13 : tensor(0.8293, device='cuda:0')\n",
      "accuracy epoch 13 : 0.8282\n",
      "0.05911457954543746\n"
     ]
    },
    {
     "name": "stderr",
     "output_type": "stream",
     "text": [
      " 75%|███████▌  | 15/20 [04:49<01:36, 19.31s/it]"
     ]
    },
    {
     "name": "stdout",
     "output_type": "stream",
     "text": [
      "los epoch 14 : tensor(0.8376, device='cuda:0')\n",
      "accuracy epoch 14 : 0.8268\n",
      "0.051465085717435514\n"
     ]
    },
    {
     "name": "stderr",
     "output_type": "stream",
     "text": [
      " 80%|████████  | 16/20 [05:08<01:17, 19.35s/it]"
     ]
    },
    {
     "name": "stdout",
     "output_type": "stream",
     "text": [
      "los epoch 15 : tensor(0.8980, device='cuda:0')\n",
      "accuracy epoch 15 : 0.8316\n",
      "0.05249870576119671\n"
     ]
    },
    {
     "name": "stderr",
     "output_type": "stream",
     "text": [
      " 85%|████████▌ | 17/20 [05:27<00:58, 19.36s/it]"
     ]
    },
    {
     "name": "stdout",
     "output_type": "stream",
     "text": [
      "los epoch 16 : tensor(0.9180, device='cuda:0')\n",
      "accuracy epoch 16 : 0.8236\n",
      "0.04555770225590095\n"
     ]
    },
    {
     "name": "stderr",
     "output_type": "stream",
     "text": [
      " 90%|█████████ | 18/20 [05:47<00:38, 19.34s/it]"
     ]
    },
    {
     "name": "stdout",
     "output_type": "stream",
     "text": [
      "los epoch 17 : tensor(0.9171, device='cuda:0')\n",
      "accuracy epoch 17 : 0.827\n",
      "0.04614849155717012\n"
     ]
    },
    {
     "name": "stderr",
     "output_type": "stream",
     "text": [
      " 95%|█████████▌| 19/20 [06:06<00:19, 19.34s/it]"
     ]
    },
    {
     "name": "stdout",
     "output_type": "stream",
     "text": [
      "los epoch 18 : tensor(0.9115, device='cuda:0')\n",
      "accuracy epoch 18 : 0.8266\n",
      "0.042877711488658356\n"
     ]
    },
    {
     "name": "stderr",
     "output_type": "stream",
     "text": [
      "100%|██████████| 20/20 [06:25<00:00, 19.29s/it]\n"
     ]
    },
    {
     "name": "stdout",
     "output_type": "stream",
     "text": [
      "los epoch 19 : tensor(0.9319, device='cuda:0')\n",
      "accuracy epoch 19 : 0.8286\n",
      "[0.664, 0.757, 0.7956, 0.8056, 0.8194, 0.8096, 0.8218, 0.8204, 0.823, 0.8212, 0.8256, 0.8272, 0.8234, 0.8282, 0.8268, 0.8316, 0.8236, 0.827, 0.8266, 0.8286]\n",
      "[1.4948335496584575, 0.7810714642869102, 0.5484770649009281, 0.3936531255642573, 0.28188190284702513, 0.19442464122341738, 0.15143183607194158, 0.1196470176262988, 0.10402663320716884, 0.08982768959055344, 0.08162551867465179, 0.07542739828634593, 0.07017479403668808, 0.06228509718707452, 0.05911457954543746, 0.051465085717435514, 0.05249870576119671, 0.04555770225590095, 0.04614849155717012, 0.042877711488658356]\n"
     ]
    },
    {
     "name": "stderr",
     "output_type": "stream",
     "text": [
      "  0%|          | 0/20 [00:00<?, ?it/s]"
     ]
    },
    {
     "name": "stdout",
     "output_type": "stream",
     "text": [
      "1.4999578408400218\n"
     ]
    },
    {
     "name": "stderr",
     "output_type": "stream",
     "text": [
      "  5%|▌         | 1/20 [00:19<06:09, 19.43s/it]"
     ]
    },
    {
     "name": "stdout",
     "output_type": "stream",
     "text": [
      "los epoch 0 : tensor(1.0051, device='cuda:0')\n",
      "accuracy epoch 0 : 0.6432\n",
      "0.7991864120960236\n"
     ]
    },
    {
     "name": "stderr",
     "output_type": "stream",
     "text": [
      " 10%|█         | 2/20 [00:38<05:47, 19.33s/it]"
     ]
    },
    {
     "name": "stdout",
     "output_type": "stream",
     "text": [
      "los epoch 1 : tensor(0.7235, device='cuda:0')\n",
      "accuracy epoch 1 : 0.747\n",
      "0.5578958917988671\n"
     ]
    },
    {
     "name": "stderr",
     "output_type": "stream",
     "text": [
      " 15%|█▌        | 3/20 [00:57<05:28, 19.29s/it]"
     ]
    },
    {
     "name": "stdout",
     "output_type": "stream",
     "text": [
      "los epoch 2 : tensor(0.5918, device='cuda:0')\n",
      "accuracy epoch 2 : 0.8002\n",
      "0.40383169213930764\n"
     ]
    },
    {
     "name": "stderr",
     "output_type": "stream",
     "text": [
      " 20%|██        | 4/20 [01:17<05:09, 19.34s/it]"
     ]
    },
    {
     "name": "stdout",
     "output_type": "stream",
     "text": [
      "los epoch 3 : tensor(0.5669, device='cuda:0')\n",
      "accuracy epoch 3 : 0.8092\n",
      "0.2875366040401989\n"
     ]
    },
    {
     "name": "stderr",
     "output_type": "stream",
     "text": [
      " 25%|██▌       | 5/20 [01:36<04:50, 19.37s/it]"
     ]
    },
    {
     "name": "stdout",
     "output_type": "stream",
     "text": [
      "los epoch 4 : tensor(0.5588, device='cuda:0')\n",
      "accuracy epoch 4 : 0.8208\n",
      "0.20540343061089517\n"
     ]
    },
    {
     "name": "stderr",
     "output_type": "stream",
     "text": [
      " 30%|███       | 6/20 [01:56<04:31, 19.36s/it]"
     ]
    },
    {
     "name": "stdout",
     "output_type": "stream",
     "text": [
      "los epoch 5 : tensor(0.6398, device='cuda:0')\n",
      "accuracy epoch 5 : 0.8152\n",
      "0.15230870683160094\n"
     ]
    },
    {
     "name": "stderr",
     "output_type": "stream",
     "text": [
      " 35%|███▌      | 7/20 [02:15<04:11, 19.35s/it]"
     ]
    },
    {
     "name": "stdout",
     "output_type": "stream",
     "text": [
      "los epoch 6 : tensor(0.7010, device='cuda:0')\n",
      "accuracy epoch 6 : 0.8204\n",
      "0.12152435625178946\n"
     ]
    },
    {
     "name": "stderr",
     "output_type": "stream",
     "text": [
      " 40%|████      | 8/20 [02:34<03:51, 19.33s/it]"
     ]
    },
    {
     "name": "stdout",
     "output_type": "stream",
     "text": [
      "los epoch 7 : tensor(0.7050, device='cuda:0')\n",
      "accuracy epoch 7 : 0.8242\n",
      "0.10641197654108206\n"
     ]
    },
    {
     "name": "stderr",
     "output_type": "stream",
     "text": [
      " 45%|████▌     | 9/20 [02:54<03:32, 19.33s/it]"
     ]
    },
    {
     "name": "stdout",
     "output_type": "stream",
     "text": [
      "los epoch 8 : tensor(0.7621, device='cuda:0')\n",
      "accuracy epoch 8 : 0.8162\n",
      "0.09387791809729404\n"
     ]
    },
    {
     "name": "stderr",
     "output_type": "stream",
     "text": [
      " 50%|█████     | 10/20 [03:13<03:13, 19.33s/it]"
     ]
    },
    {
     "name": "stdout",
     "output_type": "stream",
     "text": [
      "los epoch 9 : tensor(0.7420, device='cuda:0')\n",
      "accuracy epoch 9 : 0.829\n",
      "0.08247162621468306\n"
     ]
    },
    {
     "name": "stderr",
     "output_type": "stream",
     "text": [
      " 55%|█████▌    | 11/20 [03:32<02:54, 19.37s/it]"
     ]
    },
    {
     "name": "stdout",
     "output_type": "stream",
     "text": [
      "los epoch 10 : tensor(0.7963, device='cuda:0')\n",
      "accuracy epoch 10 : 0.8218\n",
      "0.076220975437512\n"
     ]
    },
    {
     "name": "stderr",
     "output_type": "stream",
     "text": [
      " 60%|██████    | 12/20 [03:52<02:35, 19.40s/it]"
     ]
    },
    {
     "name": "stdout",
     "output_type": "stream",
     "text": [
      "los epoch 11 : tensor(0.7697, device='cuda:0')\n",
      "accuracy epoch 11 : 0.831\n",
      "0.06563700467555059\n"
     ]
    },
    {
     "name": "stderr",
     "output_type": "stream",
     "text": [
      " 65%|██████▌   | 13/20 [04:11<02:15, 19.42s/it]"
     ]
    },
    {
     "name": "stdout",
     "output_type": "stream",
     "text": [
      "los epoch 12 : tensor(0.8546, device='cuda:0')\n",
      "accuracy epoch 12 : 0.8272\n",
      "0.06267585451507734\n"
     ]
    },
    {
     "name": "stderr",
     "output_type": "stream",
     "text": [
      " 70%|███████   | 14/20 [04:31<01:56, 19.45s/it]"
     ]
    },
    {
     "name": "stdout",
     "output_type": "stream",
     "text": [
      "los epoch 13 : tensor(0.8360, device='cuda:0')\n",
      "accuracy epoch 13 : 0.8332\n",
      "0.06091703629690326\n"
     ]
    },
    {
     "name": "stderr",
     "output_type": "stream",
     "text": [
      " 75%|███████▌  | 15/20 [04:50<01:37, 19.48s/it]"
     ]
    },
    {
     "name": "stdout",
     "output_type": "stream",
     "text": [
      "los epoch 14 : tensor(0.8385, device='cuda:0')\n",
      "accuracy epoch 14 : 0.836\n",
      "0.055096928256356884\n"
     ]
    },
    {
     "name": "stderr",
     "output_type": "stream",
     "text": [
      " 80%|████████  | 16/20 [05:10<01:17, 19.46s/it]"
     ]
    },
    {
     "name": "stdout",
     "output_type": "stream",
     "text": [
      "los epoch 15 : tensor(0.8780, device='cuda:0')\n",
      "accuracy epoch 15 : 0.8274\n",
      "0.052751063048425646\n"
     ]
    },
    {
     "name": "stderr",
     "output_type": "stream",
     "text": [
      " 85%|████████▌ | 17/20 [05:29<00:58, 19.46s/it]"
     ]
    },
    {
     "name": "stdout",
     "output_type": "stream",
     "text": [
      "los epoch 16 : tensor(0.8262, device='cuda:0')\n",
      "accuracy epoch 16 : 0.83\n",
      "0.047518481502516405\n"
     ]
    },
    {
     "name": "stderr",
     "output_type": "stream",
     "text": [
      " 90%|█████████ | 18/20 [05:49<00:38, 19.44s/it]"
     ]
    },
    {
     "name": "stdout",
     "output_type": "stream",
     "text": [
      "los epoch 17 : tensor(0.8501, device='cuda:0')\n",
      "accuracy epoch 17 : 0.8332\n",
      "0.04469567260497974\n"
     ]
    },
    {
     "name": "stderr",
     "output_type": "stream",
     "text": [
      " 95%|█████████▌| 19/20 [06:08<00:19, 19.42s/it]"
     ]
    },
    {
     "name": "stdout",
     "output_type": "stream",
     "text": [
      "los epoch 18 : tensor(0.8603, device='cuda:0')\n",
      "accuracy epoch 18 : 0.8324\n",
      "0.04547766400035471\n"
     ]
    },
    {
     "name": "stderr",
     "output_type": "stream",
     "text": [
      "100%|██████████| 20/20 [06:27<00:00, 19.39s/it]\n"
     ]
    },
    {
     "name": "stdout",
     "output_type": "stream",
     "text": [
      "los epoch 19 : tensor(0.8657, device='cuda:0')\n",
      "accuracy epoch 19 : 0.83\n",
      "[0.6432, 0.747, 0.8002, 0.8092, 0.8208, 0.8152, 0.8204, 0.8242, 0.8162, 0.829, 0.8218, 0.831, 0.8272, 0.8332, 0.836, 0.8274, 0.83, 0.8332, 0.8324, 0.83]\n",
      "[1.4999578408400218, 0.7991864120960236, 0.5578958917988671, 0.40383169213930764, 0.2875366040401989, 0.20540343061089517, 0.15230870683160094, 0.12152435625178946, 0.10641197654108206, 0.09387791809729404, 0.08247162621468306, 0.076220975437512, 0.06563700467555059, 0.06267585451507734, 0.06091703629690326, 0.055096928256356884, 0.052751063048425646, 0.047518481502516405, 0.04469567260497974, 0.04547766400035471]\n"
     ]
    },
    {
     "name": "stderr",
     "output_type": "stream",
     "text": [
      "  0%|          | 0/20 [00:00<?, ?it/s]"
     ]
    },
    {
     "name": "stdout",
     "output_type": "stream",
     "text": [
      "1.4835360377364688\n"
     ]
    },
    {
     "name": "stderr",
     "output_type": "stream",
     "text": [
      "  5%|▌         | 1/20 [00:19<06:05, 19.21s/it]"
     ]
    },
    {
     "name": "stdout",
     "output_type": "stream",
     "text": [
      "los epoch 0 : tensor(1.0146, device='cuda:0')\n",
      "accuracy epoch 0 : 0.6428\n",
      "0.7946242082781262\n"
     ]
    },
    {
     "name": "stderr",
     "output_type": "stream",
     "text": [
      " 10%|█         | 2/20 [00:38<05:46, 19.27s/it]"
     ]
    },
    {
     "name": "stdout",
     "output_type": "stream",
     "text": [
      "los epoch 1 : tensor(0.6985, device='cuda:0')\n",
      "accuracy epoch 1 : 0.7604\n",
      "0.5524649079640707\n"
     ]
    },
    {
     "name": "stderr",
     "output_type": "stream",
     "text": [
      " 15%|█▌        | 3/20 [00:57<05:28, 19.30s/it]"
     ]
    },
    {
     "name": "stdout",
     "output_type": "stream",
     "text": [
      "los epoch 2 : tensor(0.5915, device='cuda:0')\n",
      "accuracy epoch 2 : 0.8014\n",
      "0.3995182223121325\n"
     ]
    },
    {
     "name": "stderr",
     "output_type": "stream",
     "text": [
      " 20%|██        | 4/20 [01:17<05:08, 19.28s/it]"
     ]
    },
    {
     "name": "stdout",
     "output_type": "stream",
     "text": [
      "los epoch 3 : tensor(0.5616, device='cuda:0')\n",
      "accuracy epoch 3 : 0.816\n",
      "0.27717899041043387\n"
     ]
    },
    {
     "name": "stderr",
     "output_type": "stream",
     "text": [
      " 25%|██▌       | 5/20 [01:36<04:49, 19.28s/it]"
     ]
    },
    {
     "name": "stdout",
     "output_type": "stream",
     "text": [
      "los epoch 4 : tensor(0.5992, device='cuda:0')\n",
      "accuracy epoch 4 : 0.8184\n",
      "0.20079247800840272\n"
     ]
    },
    {
     "name": "stderr",
     "output_type": "stream",
     "text": [
      " 30%|███       | 6/20 [01:55<04:30, 19.33s/it]"
     ]
    },
    {
     "name": "stdout",
     "output_type": "stream",
     "text": [
      "los epoch 5 : tensor(0.6207, device='cuda:0')\n",
      "accuracy epoch 5 : 0.8162\n",
      "0.1491853005439043\n"
     ]
    },
    {
     "name": "stderr",
     "output_type": "stream",
     "text": [
      " 35%|███▌      | 7/20 [02:15<04:11, 19.33s/it]"
     ]
    },
    {
     "name": "stdout",
     "output_type": "stream",
     "text": [
      "los epoch 6 : tensor(0.6913, device='cuda:0')\n",
      "accuracy epoch 6 : 0.8208\n",
      "0.12104927644133567\n"
     ]
    },
    {
     "name": "stderr",
     "output_type": "stream",
     "text": [
      " 40%|████      | 8/20 [02:34<03:52, 19.35s/it]"
     ]
    },
    {
     "name": "stdout",
     "output_type": "stream",
     "text": [
      "los epoch 7 : tensor(0.7298, device='cuda:0')\n",
      "accuracy epoch 7 : 0.8222\n",
      "0.1061136664615737\n"
     ]
    },
    {
     "name": "stderr",
     "output_type": "stream",
     "text": [
      " 45%|████▌     | 9/20 [02:53<03:32, 19.36s/it]"
     ]
    },
    {
     "name": "stdout",
     "output_type": "stream",
     "text": [
      "los epoch 8 : tensor(0.7568, device='cuda:0')\n",
      "accuracy epoch 8 : 0.824\n",
      "0.09211273183425267\n"
     ]
    },
    {
     "name": "stderr",
     "output_type": "stream",
     "text": [
      " 50%|█████     | 10/20 [03:13<03:13, 19.38s/it]"
     ]
    },
    {
     "name": "stdout",
     "output_type": "stream",
     "text": [
      "los epoch 9 : tensor(0.7605, device='cuda:0')\n",
      "accuracy epoch 9 : 0.8236\n",
      "0.08003210690079464\n"
     ]
    },
    {
     "name": "stderr",
     "output_type": "stream",
     "text": [
      " 55%|█████▌    | 11/20 [03:32<02:54, 19.36s/it]"
     ]
    },
    {
     "name": "stdout",
     "output_type": "stream",
     "text": [
      "los epoch 10 : tensor(0.8162, device='cuda:0')\n",
      "accuracy epoch 10 : 0.8232\n",
      "0.07157295472092098\n"
     ]
    },
    {
     "name": "stderr",
     "output_type": "stream",
     "text": [
      " 60%|██████    | 12/20 [03:51<02:34, 19.34s/it]"
     ]
    },
    {
     "name": "stdout",
     "output_type": "stream",
     "text": [
      "los epoch 11 : tensor(0.8241, device='cuda:0')\n",
      "accuracy epoch 11 : 0.8248\n",
      "0.06885059782769531\n"
     ]
    },
    {
     "name": "stderr",
     "output_type": "stream",
     "text": [
      " 65%|██████▌   | 13/20 [04:11<02:15, 19.34s/it]"
     ]
    },
    {
     "name": "stdout",
     "output_type": "stream",
     "text": [
      "los epoch 12 : tensor(0.8324, device='cuda:0')\n",
      "accuracy epoch 12 : 0.8202\n",
      "0.061921504533125296\n"
     ]
    },
    {
     "name": "stderr",
     "output_type": "stream",
     "text": [
      " 70%|███████   | 14/20 [04:30<01:55, 19.31s/it]"
     ]
    },
    {
     "name": "stdout",
     "output_type": "stream",
     "text": [
      "los epoch 13 : tensor(0.8672, device='cuda:0')\n",
      "accuracy epoch 13 : 0.8258\n",
      "0.06098280548221535\n"
     ]
    },
    {
     "name": "stderr",
     "output_type": "stream",
     "text": [
      " 75%|███████▌  | 15/20 [04:49<01:36, 19.31s/it]"
     ]
    },
    {
     "name": "stdout",
     "output_type": "stream",
     "text": [
      "los epoch 14 : tensor(0.8484, device='cuda:0')\n",
      "accuracy epoch 14 : 0.8306\n",
      "0.056823948681768446\n"
     ]
    },
    {
     "name": "stderr",
     "output_type": "stream",
     "text": [
      " 80%|████████  | 16/20 [05:09<01:17, 19.31s/it]"
     ]
    },
    {
     "name": "stdout",
     "output_type": "stream",
     "text": [
      "los epoch 15 : tensor(0.8874, device='cuda:0')\n",
      "accuracy epoch 15 : 0.8248\n",
      "0.04944342547975895\n"
     ]
    },
    {
     "name": "stderr",
     "output_type": "stream",
     "text": [
      " 85%|████████▌ | 17/20 [05:28<00:57, 19.32s/it]"
     ]
    },
    {
     "name": "stdout",
     "output_type": "stream",
     "text": [
      "los epoch 16 : tensor(0.8681, device='cuda:0')\n",
      "accuracy epoch 16 : 0.8284\n",
      "0.04723360767174098\n"
     ]
    },
    {
     "name": "stderr",
     "output_type": "stream",
     "text": [
      " 90%|█████████ | 18/20 [05:47<00:38, 19.32s/it]"
     ]
    },
    {
     "name": "stdout",
     "output_type": "stream",
     "text": [
      "los epoch 17 : tensor(0.8838, device='cuda:0')\n",
      "accuracy epoch 17 : 0.8254\n",
      "0.0446898992287202\n"
     ]
    },
    {
     "name": "stderr",
     "output_type": "stream",
     "text": [
      " 95%|█████████▌| 19/20 [06:07<00:19, 19.32s/it]"
     ]
    },
    {
     "name": "stdout",
     "output_type": "stream",
     "text": [
      "los epoch 18 : tensor(0.8929, device='cuda:0')\n",
      "accuracy epoch 18 : 0.8328\n",
      "0.04368096822536447\n"
     ]
    },
    {
     "name": "stderr",
     "output_type": "stream",
     "text": [
      "100%|██████████| 20/20 [06:26<00:00, 19.32s/it]\n"
     ]
    },
    {
     "name": "stdout",
     "output_type": "stream",
     "text": [
      "los epoch 19 : tensor(0.9108, device='cuda:0')\n",
      "accuracy epoch 19 : 0.8268\n",
      "[0.6428, 0.7604, 0.8014, 0.816, 0.8184, 0.8162, 0.8208, 0.8222, 0.824, 0.8236, 0.8232, 0.8248, 0.8202, 0.8258, 0.8306, 0.8248, 0.8284, 0.8254, 0.8328, 0.8268]\n",
      "[1.4835360377364688, 0.7946242082781262, 0.5524649079640707, 0.3995182223121325, 0.27717899041043387, 0.20079247800840272, 0.1491853005439043, 0.12104927644133567, 0.1061136664615737, 0.09211273183425267, 0.08003210690079464, 0.07157295472092098, 0.06885059782769531, 0.061921504533125296, 0.06098280548221535, 0.056823948681768446, 0.04944342547975895, 0.04723360767174098, 0.0446898992287202, 0.04368096822536447]\n"
     ]
    },
    {
     "name": "stderr",
     "output_type": "stream",
     "text": [
      "  0%|          | 0/20 [00:00<?, ?it/s]"
     ]
    },
    {
     "name": "stdout",
     "output_type": "stream",
     "text": [
      "1.414115082555347\n"
     ]
    },
    {
     "name": "stderr",
     "output_type": "stream",
     "text": [
      "  5%|▌         | 1/20 [00:19<06:07, 19.33s/it]"
     ]
    },
    {
     "name": "stdout",
     "output_type": "stream",
     "text": [
      "los epoch 0 : tensor(1.0854, device='cuda:0')\n",
      "accuracy epoch 0 : 0.6136\n",
      "0.9086811678939396\n"
     ]
    },
    {
     "name": "stderr",
     "output_type": "stream",
     "text": [
      " 10%|█         | 2/20 [00:38<05:48, 19.37s/it]"
     ]
    },
    {
     "name": "stdout",
     "output_type": "stream",
     "text": [
      "los epoch 1 : tensor(0.8318, device='cuda:0')\n",
      "accuracy epoch 1 : 0.7072\n",
      "0.6732302733924653\n"
     ]
    },
    {
     "name": "stderr",
     "output_type": "stream",
     "text": [
      " 15%|█▌        | 3/20 [00:58<05:28, 19.35s/it]"
     ]
    },
    {
     "name": "stdout",
     "output_type": "stream",
     "text": [
      "los epoch 2 : tensor(0.6697, device='cuda:0')\n",
      "accuracy epoch 2 : 0.7718\n",
      "0.5077909473578135\n"
     ]
    },
    {
     "name": "stderr",
     "output_type": "stream",
     "text": [
      " 20%|██        | 4/20 [01:17<05:09, 19.33s/it]"
     ]
    },
    {
     "name": "stdout",
     "output_type": "stream",
     "text": [
      "los epoch 3 : tensor(0.5873, device='cuda:0')\n",
      "accuracy epoch 3 : 0.7976\n",
      "0.3760981675651338\n"
     ]
    },
    {
     "name": "stderr",
     "output_type": "stream",
     "text": [
      " 25%|██▌       | 5/20 [01:36<04:49, 19.33s/it]"
     ]
    },
    {
     "name": "stdout",
     "output_type": "stream",
     "text": [
      "los epoch 4 : tensor(0.5588, device='cuda:0')\n",
      "accuracy epoch 4 : 0.8156\n",
      "0.263981078747246\n"
     ]
    },
    {
     "name": "stderr",
     "output_type": "stream",
     "text": [
      " 30%|███       | 6/20 [01:55<04:30, 19.29s/it]"
     ]
    },
    {
     "name": "stdout",
     "output_type": "stream",
     "text": [
      "los epoch 5 : tensor(0.5719, device='cuda:0')\n",
      "accuracy epoch 5 : 0.8236\n",
      "0.18151831719610426\n"
     ]
    },
    {
     "name": "stderr",
     "output_type": "stream",
     "text": [
      " 35%|███▌      | 7/20 [02:15<04:10, 19.27s/it]"
     ]
    },
    {
     "name": "stdout",
     "output_type": "stream",
     "text": [
      "los epoch 6 : tensor(0.6413, device='cuda:0')\n",
      "accuracy epoch 6 : 0.8176\n",
      "0.13783017141951456\n"
     ]
    },
    {
     "name": "stderr",
     "output_type": "stream",
     "text": [
      " 40%|████      | 8/20 [02:34<03:51, 19.27s/it]"
     ]
    },
    {
     "name": "stdout",
     "output_type": "stream",
     "text": [
      "los epoch 7 : tensor(0.6762, device='cuda:0')\n",
      "accuracy epoch 7 : 0.824\n",
      "0.11063043129940828\n"
     ]
    },
    {
     "name": "stderr",
     "output_type": "stream",
     "text": [
      " 45%|████▌     | 9/20 [02:53<03:32, 19.29s/it]"
     ]
    },
    {
     "name": "stdout",
     "output_type": "stream",
     "text": [
      "los epoch 8 : tensor(0.6820, device='cuda:0')\n",
      "accuracy epoch 8 : 0.828\n",
      "0.09413753836519188\n"
     ]
    },
    {
     "name": "stderr",
     "output_type": "stream",
     "text": [
      " 50%|█████     | 10/20 [03:13<03:12, 19.29s/it]"
     ]
    },
    {
     "name": "stdout",
     "output_type": "stream",
     "text": [
      "los epoch 9 : tensor(0.7524, device='cuda:0')\n",
      "accuracy epoch 9 : 0.8232\n",
      "0.08259516270106865\n"
     ]
    },
    {
     "name": "stderr",
     "output_type": "stream",
     "text": [
      " 55%|█████▌    | 11/20 [03:32<02:53, 19.26s/it]"
     ]
    },
    {
     "name": "stdout",
     "output_type": "stream",
     "text": [
      "los epoch 10 : tensor(0.7974, device='cuda:0')\n",
      "accuracy epoch 10 : 0.8208\n",
      "0.0772076464113262\n"
     ]
    },
    {
     "name": "stderr",
     "output_type": "stream",
     "text": [
      " 60%|██████    | 12/20 [03:51<02:34, 19.25s/it]"
     ]
    },
    {
     "name": "stdout",
     "output_type": "stream",
     "text": [
      "los epoch 11 : tensor(0.7837, device='cuda:0')\n",
      "accuracy epoch 11 : 0.827\n",
      "0.06712900873377091\n"
     ]
    },
    {
     "name": "stderr",
     "output_type": "stream",
     "text": [
      " 65%|██████▌   | 13/20 [04:10<02:14, 19.25s/it]"
     ]
    },
    {
     "name": "stdout",
     "output_type": "stream",
     "text": [
      "los epoch 12 : tensor(0.8361, device='cuda:0')\n",
      "accuracy epoch 12 : 0.8298\n",
      "0.05916820579518874\n"
     ]
    },
    {
     "name": "stderr",
     "output_type": "stream",
     "text": [
      " 70%|███████   | 14/20 [04:29<01:55, 19.25s/it]"
     ]
    },
    {
     "name": "stdout",
     "output_type": "stream",
     "text": [
      "los epoch 13 : tensor(0.8528, device='cuda:0')\n",
      "accuracy epoch 13 : 0.8248\n",
      "0.05783883344485528\n"
     ]
    },
    {
     "name": "stderr",
     "output_type": "stream",
     "text": [
      " 75%|███████▌  | 15/20 [04:49<01:36, 19.27s/it]"
     ]
    },
    {
     "name": "stdout",
     "output_type": "stream",
     "text": [
      "los epoch 14 : tensor(0.8688, device='cuda:0')\n",
      "accuracy epoch 14 : 0.8288\n"
     ]
    }
   ],
   "source": [
    "for learning_rate, weight_decay in product([0.0001, 0.001, 0.01], [1e-3, 1e-2, 0]):\n",
    "    key = (learning_rate, weight_decay)\n",
    "    if key in test_accuracy_history_lion:\n",
    "        print(\"Already computed, ignoring\")\n",
    "        continue\n",
    "    \n",
    "    lenet = torchvision.models.resnet18(pretrained=False)\n",
    "    lenet.conv1 = torch.nn.Conv2d(3, 64, 3, 1, 1, bias=False)\n",
    "    lenet.maxpool = torch.nn.Identity()\n",
    "    lenet.cuda()\n",
    "    loss = torch.nn.CrossEntropyLoss()\n",
    "    \n",
    "    optimizer = Lion(lenet.parameters(), lr=learning_rate, weight_decay=weight_decay)\n",
    "    \n",
    "    test_loss_history_lion[key] = list()\n",
    "    test_accuracy_history_lion[key] = list()\n",
    "    loss_in_training_lion[key] = list()\n",
    "    time_learning_lion[key] = list()\n",
    "\n",
    "    for epoch in tqdm(range(20)):\n",
    "        \n",
    "        sum_los = 0\n",
    "        start_time = time.time()\n",
    "        \n",
    "        for i, data in enumerate(trainloader, 0):\n",
    "            \n",
    "            optimizer.zero_grad()\n",
    "\n",
    "            X_batch, y_batch = data\n",
    "            X_batch, y_batch = X_batch.cuda(), y_batch.cuda()\n",
    "\n",
    "            preds = lenet.forward(X_batch) \n",
    "            loss_value = loss(preds, y_batch)\n",
    "            loss_value.backward()\n",
    "            optimizer.step()\n",
    "            sum_los += float(loss_value)\n",
    "            \n",
    "        time_learning_lion[key].append(time.time() - start_time)\n",
    "        loss_in_training_lion[key].append(sum_los/450)\n",
    "        print(sum_los/450)\n",
    "            \n",
    "        correct = 0\n",
    "        total = 0\n",
    "        los = 0\n",
    "        with torch.no_grad():\n",
    "            for data in valloader:\n",
    "                images, labels = data\n",
    "                images, labels = images.cuda(), labels.cuda()\n",
    "                outputs = lenet.forward(images)\n",
    "                outputs = outputs.cuda()\n",
    "                _, predicted = torch.max(outputs.data, 1)\n",
    "                correct += (predicted == labels).sum().item()\n",
    "                loss_value = loss(outputs, labels)\n",
    "                total += labels.size(0)\n",
    "                los += loss_value               \n",
    "        \n",
    "        test_loss_history_lion[key].append(los/50)\n",
    "        print('los epoch', epoch, ':', los/50)\n",
    "    \n",
    "        test_accuracy_history_lion[key].append(correct/total)\n",
    "        print('accuracy epoch', epoch, ':', correct/total)\n",
    "    \n",
    "    print(test_accuracy_history_lion[(learning_rate, weight_decay)])\n",
    "    print(loss_in_training_lion[(learning_rate, weight_decay)])\n",
    "    with open('lion_big_results.pkl', 'wb') as f:\n",
    "        pickle.dump({\"acc\": test_accuracy_history_lion, \"loss\": test_loss_history_lion, \"loss_train\":loss_in_training_lion, \"time\":time_learning_lion}, f)"
   ]
  },
  {
   "cell_type": "code",
   "execution_count": 9,
   "id": "6480042b-e4e6-4c54-a8c5-aa70a2f1986d",
   "metadata": {
    "execution": {
     "iopub.execute_input": "2023-04-16T19:31:39.493228Z",
     "iopub.status.busy": "2023-04-16T19:31:39.492559Z",
     "iopub.status.idle": "2023-04-16T19:31:41.102209Z",
     "shell.execute_reply": "2023-04-16T19:31:41.101647Z",
     "shell.execute_reply.started": "2023-04-16T19:31:39.493196Z"
    }
   },
   "outputs": [
    {
     "name": "stdout",
     "output_type": "stream",
     "text": [
      "Files already downloaded and verified\n",
      "Files already downloaded and verified\n"
     ]
    }
   ],
   "source": [
    "transform = transforms.Compose(\n",
    "    [transforms.ToTensor(),\n",
    "     transforms.Normalize((0.5, 0.5, 0.5), (0.5, 0.5, 0.5))])\n",
    "\n",
    "batch_size = 100\n",
    "\n",
    "trainset = torchvision.datasets.CIFAR10(root='./data', train=True,\n",
    "                                        download=True, transform=transform)\n",
    "trainloader = torch.utils.data.DataLoader(trainset, batch_size=batch_size,\n",
    "                                          shuffle=True, num_workers=2)\n",
    "\n",
    "testset = torchvision.datasets.CIFAR10(root='./data', train=False,\n",
    "                                       download=True, transform=transform)\n",
    "testloader = torch.utils.data.DataLoader(testset, batch_size=batch_size,\n",
    "                                         shuffle=False, num_workers=2)"
   ]
  },
  {
   "cell_type": "code",
   "execution_count": 10,
   "id": "a8ff60e4-0751-4046-a456-d8cba45bc3c2",
   "metadata": {
    "execution": {
     "iopub.execute_input": "2023-04-16T19:31:42.041776Z",
     "iopub.status.busy": "2023-04-16T19:31:42.041579Z",
     "iopub.status.idle": "2023-04-16T19:31:42.054756Z",
     "shell.execute_reply": "2023-04-16T19:31:42.054170Z",
     "shell.execute_reply.started": "2023-04-16T19:31:42.041757Z"
    }
   },
   "outputs": [],
   "source": [
    "trainset, valset = torch.utils.data.random_split(trainset, [45000, 5000])\n",
    "trainloader = torch.utils.data.DataLoader(trainset, batch_size=batch_size,\n",
    "                                          shuffle=True, num_workers=2)\n",
    "valloader = torch.utils.data.DataLoader(valset, batch_size=batch_size,\n",
    "                                          shuffle=True, num_workers=2)"
   ]
  },
  {
   "cell_type": "code",
   "execution_count": 19,
   "id": "2e979e5b-54cb-4ee7-a53b-5b44ce4b053a",
   "metadata": {
    "execution": {
     "iopub.execute_input": "2023-04-16T20:39:02.768447Z",
     "iopub.status.busy": "2023-04-16T20:39:02.767822Z",
     "iopub.status.idle": "2023-04-16T20:39:02.775798Z",
     "shell.execute_reply": "2023-04-16T20:39:02.775403Z",
     "shell.execute_reply.started": "2023-04-16T20:39:02.768418Z"
    }
   },
   "outputs": [
    {
     "data": {
      "text/plain": [
       "{(0.0001, 0.001): [0.664,\n",
       "  0.757,\n",
       "  0.7956,\n",
       "  0.8056,\n",
       "  0.8194,\n",
       "  0.8096,\n",
       "  0.8218,\n",
       "  0.8204,\n",
       "  0.823,\n",
       "  0.8212,\n",
       "  0.8256,\n",
       "  0.8272,\n",
       "  0.8234,\n",
       "  0.8282,\n",
       "  0.8268,\n",
       "  0.8316,\n",
       "  0.8236,\n",
       "  0.827,\n",
       "  0.8266,\n",
       "  0.8286],\n",
       " (0.0001, 0.01): [0.6432,\n",
       "  0.747,\n",
       "  0.8002,\n",
       "  0.8092,\n",
       "  0.8208,\n",
       "  0.8152,\n",
       "  0.8204,\n",
       "  0.8242,\n",
       "  0.8162,\n",
       "  0.829,\n",
       "  0.8218,\n",
       "  0.831,\n",
       "  0.8272,\n",
       "  0.8332,\n",
       "  0.836,\n",
       "  0.8274,\n",
       "  0.83,\n",
       "  0.8332,\n",
       "  0.8324,\n",
       "  0.83],\n",
       " (0.0001, 0): [0.6428,\n",
       "  0.7604,\n",
       "  0.8014,\n",
       "  0.816,\n",
       "  0.8184,\n",
       "  0.8162,\n",
       "  0.8208,\n",
       "  0.8222,\n",
       "  0.824,\n",
       "  0.8236,\n",
       "  0.8232,\n",
       "  0.8248,\n",
       "  0.8202,\n",
       "  0.8258,\n",
       "  0.8306,\n",
       "  0.8248,\n",
       "  0.8284,\n",
       "  0.8254,\n",
       "  0.8328,\n",
       "  0.8268],\n",
       " (0.001, 0.001): [0.6136,\n",
       "  0.7072,\n",
       "  0.7718,\n",
       "  0.7976,\n",
       "  0.8156,\n",
       "  0.8236,\n",
       "  0.8176,\n",
       "  0.824,\n",
       "  0.828,\n",
       "  0.8232,\n",
       "  0.8208,\n",
       "  0.827,\n",
       "  0.8298,\n",
       "  0.8248,\n",
       "  0.8288,\n",
       "  0.8298,\n",
       "  0.8274,\n",
       "  0.829,\n",
       "  0.8276,\n",
       "  0.831],\n",
       " (0.001, 0.01): [0.6396,\n",
       "  0.7202,\n",
       "  0.7712,\n",
       "  0.804,\n",
       "  0.8196,\n",
       "  0.8232,\n",
       "  0.8286,\n",
       "  0.8292,\n",
       "  0.8358,\n",
       "  0.8168,\n",
       "  0.826,\n",
       "  0.8324,\n",
       "  0.8302,\n",
       "  0.8278,\n",
       "  0.8222,\n",
       "  0.8252,\n",
       "  0.8322,\n",
       "  0.8252,\n",
       "  0.8308,\n",
       "  0.8448],\n",
       " (0.001, 0): [0.6124,\n",
       "  0.7144,\n",
       "  0.7572,\n",
       "  0.7892,\n",
       "  0.8076,\n",
       "  0.812,\n",
       "  0.824,\n",
       "  0.8244,\n",
       "  0.8234,\n",
       "  0.825,\n",
       "  0.829,\n",
       "  0.8258,\n",
       "  0.8294,\n",
       "  0.829,\n",
       "  0.8226,\n",
       "  0.8316,\n",
       "  0.8378,\n",
       "  0.824,\n",
       "  0.825,\n",
       "  0.829],\n",
       " (0.01, 0.001): [0.4242,\n",
       "  0.5278,\n",
       "  0.6104,\n",
       "  0.6546,\n",
       "  0.6808,\n",
       "  0.704,\n",
       "  0.7362,\n",
       "  0.7428,\n",
       "  0.7396,\n",
       "  0.7602,\n",
       "  0.5692,\n",
       "  0.6894,\n",
       "  0.7464,\n",
       "  0.7532,\n",
       "  0.7532,\n",
       "  0.7598,\n",
       "  0.7694,\n",
       "  0.7526,\n",
       "  0.767,\n",
       "  0.7634],\n",
       " (0.01, 0.01): [0.4702,\n",
       "  0.6014,\n",
       "  0.6676,\n",
       "  0.7054,\n",
       "  0.7426,\n",
       "  0.7474,\n",
       "  0.7626,\n",
       "  0.778,\n",
       "  0.7844,\n",
       "  0.7852,\n",
       "  0.7736,\n",
       "  0.7862,\n",
       "  0.7768,\n",
       "  0.7792,\n",
       "  0.794,\n",
       "  0.7864,\n",
       "  0.7872,\n",
       "  0.7928,\n",
       "  0.7938,\n",
       "  0.7918],\n",
       " (0.01, 0): [0.4606,\n",
       "  0.5924,\n",
       "  0.6654,\n",
       "  0.6938,\n",
       "  0.7198,\n",
       "  0.744,\n",
       "  0.7556,\n",
       "  0.758,\n",
       "  0.7648,\n",
       "  0.7538,\n",
       "  0.759,\n",
       "  0.763,\n",
       "  0.7566,\n",
       "  0.7668,\n",
       "  0.77,\n",
       "  0.7726,\n",
       "  0.4362,\n",
       "  0.483,\n",
       "  0.5946,\n",
       "  0.678],\n",
       " 'schedule_0.001': [0.6494,\n",
       "  0.7388,\n",
       "  0.785,\n",
       "  0.8102,\n",
       "  0.8266,\n",
       "  0.818,\n",
       "  0.8242,\n",
       "  0.8288,\n",
       "  0.8258,\n",
       "  0.8288,\n",
       "  0.8338,\n",
       "  0.8432,\n",
       "  0.8408,\n",
       "  0.8412,\n",
       "  0.8416,\n",
       "  0.8368,\n",
       "  0.8508,\n",
       "  0.8492,\n",
       "  0.8516,\n",
       "  0.849],\n",
       " 'schedule_0.01': [0.44,\n",
       "  0.5082,\n",
       "  0.5948,\n",
       "  0.6616,\n",
       "  0.6888,\n",
       "  0.7118,\n",
       "  0.7306,\n",
       "  0.7456,\n",
       "  0.7604,\n",
       "  0.7738,\n",
       "  0.7742,\n",
       "  0.7776,\n",
       "  0.7808,\n",
       "  0.769,\n",
       "  0.7798,\n",
       "  0.7894,\n",
       "  0.7844,\n",
       "  0.7912,\n",
       "  0.7906,\n",
       "  0.79],\n",
       " 'schedule_0.1': [0.2776,\n",
       "  0.3074,\n",
       "  0.2274,\n",
       "  0.2384,\n",
       "  0.211,\n",
       "  0.101,\n",
       "  0.101,\n",
       "  0.0972,\n",
       "  0.098,\n",
       "  0.0972,\n",
       "  0.1042,\n",
       "  0.1032,\n",
       "  0.1022,\n",
       "  0.1008,\n",
       "  0.096,\n",
       "  0.101,\n",
       "  0.1022,\n",
       "  0.0972,\n",
       "  0.0958,\n",
       "  0.1012],\n",
       " 'schedule_0.0005': [0.6466,\n",
       "  0.7558,\n",
       "  0.7978,\n",
       "  0.8306,\n",
       "  0.8382,\n",
       "  0.8454,\n",
       "  0.845,\n",
       "  0.8382,\n",
       "  0.8496,\n",
       "  0.8488,\n",
       "  0.8492,\n",
       "  0.8458,\n",
       "  0.841,\n",
       "  0.851,\n",
       "  0.8524,\n",
       "  0.8572,\n",
       "  0.858,\n",
       "  0.8606,\n",
       "  0.8582,\n",
       "  0.8636],\n",
       " 'schedule_0.0002': [0.691,\n",
       "  0.782,\n",
       "  0.8072,\n",
       "  0.8286,\n",
       "  0.8336,\n",
       "  0.8384,\n",
       "  0.8332,\n",
       "  0.8388,\n",
       "  0.8388,\n",
       "  0.8466,\n",
       "  0.8498,\n",
       "  0.842,\n",
       "  0.8406,\n",
       "  0.8446,\n",
       "  0.8426,\n",
       "  0.8512,\n",
       "  0.8556,\n",
       "  0.859,\n",
       "  0.8606,\n",
       "  0.8628],\n",
       " 'schedule_0.0001': [0.664,\n",
       "  0.7486,\n",
       "  0.7918,\n",
       "  0.8176,\n",
       "  0.825,\n",
       "  0.8208,\n",
       "  0.8334,\n",
       "  0.8282,\n",
       "  0.823,\n",
       "  0.8298,\n",
       "  0.8354,\n",
       "  0.8362,\n",
       "  0.8398,\n",
       "  0.8416,\n",
       "  0.8444,\n",
       "  0.846,\n",
       "  0.8488,\n",
       "  0.855,\n",
       "  0.8548,\n",
       "  0.857],\n",
       " 'schedule_0.0003': [0.676,\n",
       "  0.7684,\n",
       "  0.7984,\n",
       "  0.8262,\n",
       "  0.8382,\n",
       "  0.8314,\n",
       "  0.8458,\n",
       "  0.8402,\n",
       "  0.8416,\n",
       "  0.8356,\n",
       "  0.8432,\n",
       "  0.842,\n",
       "  0.849,\n",
       "  0.847,\n",
       "  0.85,\n",
       "  0.854,\n",
       "  0.8572,\n",
       "  0.8626,\n",
       "  0.8666,\n",
       "  0.8648]}"
      ]
     },
     "execution_count": 19,
     "metadata": {},
     "output_type": "execute_result"
    }
   ],
   "source": [
    "test_accuracy_history_lion"
   ]
  },
  {
   "cell_type": "code",
   "execution_count": 18,
   "id": "dc7889f8-dbe1-4420-b8e1-7edb0928dfeb",
   "metadata": {
    "execution": {
     "iopub.execute_input": "2023-04-16T20:29:50.843665Z",
     "iopub.status.busy": "2023-04-16T20:29:50.843431Z",
     "iopub.status.idle": "2023-04-16T20:36:31.170947Z",
     "shell.execute_reply": "2023-04-16T20:36:31.170133Z",
     "shell.execute_reply.started": "2023-04-16T20:29:50.843646Z"
    }
   },
   "outputs": [
    {
     "name": "stdout",
     "output_type": "stream",
     "text": [
      "Already computed, ignoring\n",
      "Already computed, ignoring\n",
      "Already computed, ignoring\n",
      "Already computed, ignoring\n",
      "Already computed, ignoring\n",
      "Already computed, ignoring\n"
     ]
    },
    {
     "name": "stderr",
     "output_type": "stream",
     "text": [
      "  5%|▌         | 1/20 [00:19<06:12, 19.62s/it]"
     ]
    },
    {
     "name": "stdout",
     "output_type": "stream",
     "text": [
      "los epoch 0 : tensor(0.8980, device='cuda:0')\n",
      "accuracy epoch 0 : 0.676\n"
     ]
    },
    {
     "name": "stderr",
     "output_type": "stream",
     "text": [
      " 10%|█         | 2/20 [00:39<05:56, 19.80s/it]"
     ]
    },
    {
     "name": "stdout",
     "output_type": "stream",
     "text": [
      "los epoch 1 : tensor(0.6693, device='cuda:0')\n",
      "accuracy epoch 1 : 0.7684\n"
     ]
    },
    {
     "name": "stderr",
     "output_type": "stream",
     "text": [
      " 15%|█▌        | 3/20 [00:59<05:37, 19.87s/it]"
     ]
    },
    {
     "name": "stdout",
     "output_type": "stream",
     "text": [
      "los epoch 2 : tensor(0.5717, device='cuda:0')\n",
      "accuracy epoch 2 : 0.7984\n"
     ]
    },
    {
     "name": "stderr",
     "output_type": "stream",
     "text": [
      " 20%|██        | 4/20 [01:19<05:18, 19.92s/it]"
     ]
    },
    {
     "name": "stdout",
     "output_type": "stream",
     "text": [
      "los epoch 3 : tensor(0.5237, device='cuda:0')\n",
      "accuracy epoch 3 : 0.8262\n"
     ]
    },
    {
     "name": "stderr",
     "output_type": "stream",
     "text": [
      " 25%|██▌       | 5/20 [01:39<04:59, 19.94s/it]"
     ]
    },
    {
     "name": "stdout",
     "output_type": "stream",
     "text": [
      "los epoch 4 : tensor(0.5125, device='cuda:0')\n",
      "accuracy epoch 4 : 0.8382\n"
     ]
    },
    {
     "name": "stderr",
     "output_type": "stream",
     "text": [
      " 30%|███       | 6/20 [01:59<04:39, 19.99s/it]"
     ]
    },
    {
     "name": "stdout",
     "output_type": "stream",
     "text": [
      "los epoch 5 : tensor(0.5836, device='cuda:0')\n",
      "accuracy epoch 5 : 0.8314\n"
     ]
    },
    {
     "name": "stderr",
     "output_type": "stream",
     "text": [
      " 35%|███▌      | 7/20 [02:19<04:19, 19.99s/it]"
     ]
    },
    {
     "name": "stdout",
     "output_type": "stream",
     "text": [
      "los epoch 6 : tensor(0.5934, device='cuda:0')\n",
      "accuracy epoch 6 : 0.8458\n"
     ]
    },
    {
     "name": "stderr",
     "output_type": "stream",
     "text": [
      " 40%|████      | 8/20 [02:39<04:00, 20.03s/it]"
     ]
    },
    {
     "name": "stdout",
     "output_type": "stream",
     "text": [
      "los epoch 7 : tensor(0.6424, device='cuda:0')\n",
      "accuracy epoch 7 : 0.8402\n"
     ]
    },
    {
     "name": "stderr",
     "output_type": "stream",
     "text": [
      " 45%|████▌     | 9/20 [02:59<03:40, 20.05s/it]"
     ]
    },
    {
     "name": "stdout",
     "output_type": "stream",
     "text": [
      "los epoch 8 : tensor(0.6852, device='cuda:0')\n",
      "accuracy epoch 8 : 0.8416\n"
     ]
    },
    {
     "name": "stderr",
     "output_type": "stream",
     "text": [
      " 50%|█████     | 10/20 [03:19<03:20, 20.03s/it]"
     ]
    },
    {
     "name": "stdout",
     "output_type": "stream",
     "text": [
      "los epoch 9 : tensor(0.7724, device='cuda:0')\n",
      "accuracy epoch 9 : 0.8356\n"
     ]
    },
    {
     "name": "stderr",
     "output_type": "stream",
     "text": [
      " 55%|█████▌    | 11/20 [03:39<03:00, 20.00s/it]"
     ]
    },
    {
     "name": "stdout",
     "output_type": "stream",
     "text": [
      "los epoch 10 : tensor(0.8258, device='cuda:0')\n",
      "accuracy epoch 10 : 0.8432\n"
     ]
    },
    {
     "name": "stderr",
     "output_type": "stream",
     "text": [
      " 60%|██████    | 12/20 [03:59<02:39, 20.00s/it]"
     ]
    },
    {
     "name": "stdout",
     "output_type": "stream",
     "text": [
      "los epoch 11 : tensor(0.8043, device='cuda:0')\n",
      "accuracy epoch 11 : 0.842\n"
     ]
    },
    {
     "name": "stderr",
     "output_type": "stream",
     "text": [
      " 65%|██████▌   | 13/20 [04:19<02:20, 20.01s/it]"
     ]
    },
    {
     "name": "stdout",
     "output_type": "stream",
     "text": [
      "los epoch 12 : tensor(0.8260, device='cuda:0')\n",
      "accuracy epoch 12 : 0.849\n"
     ]
    },
    {
     "name": "stderr",
     "output_type": "stream",
     "text": [
      " 70%|███████   | 14/20 [04:39<02:00, 20.01s/it]"
     ]
    },
    {
     "name": "stdout",
     "output_type": "stream",
     "text": [
      "los epoch 13 : tensor(0.8854, device='cuda:0')\n",
      "accuracy epoch 13 : 0.847\n"
     ]
    },
    {
     "name": "stderr",
     "output_type": "stream",
     "text": [
      " 75%|███████▌  | 15/20 [04:59<01:39, 20.00s/it]"
     ]
    },
    {
     "name": "stdout",
     "output_type": "stream",
     "text": [
      "los epoch 14 : tensor(0.9043, device='cuda:0')\n",
      "accuracy epoch 14 : 0.85\n"
     ]
    },
    {
     "name": "stderr",
     "output_type": "stream",
     "text": [
      " 80%|████████  | 16/20 [05:19<01:20, 20.02s/it]"
     ]
    },
    {
     "name": "stdout",
     "output_type": "stream",
     "text": [
      "los epoch 15 : tensor(0.8849, device='cuda:0')\n",
      "accuracy epoch 15 : 0.854\n"
     ]
    },
    {
     "name": "stderr",
     "output_type": "stream",
     "text": [
      " 85%|████████▌ | 17/20 [05:39<01:00, 20.03s/it]"
     ]
    },
    {
     "name": "stdout",
     "output_type": "stream",
     "text": [
      "los epoch 16 : tensor(0.9309, device='cuda:0')\n",
      "accuracy epoch 16 : 0.8572\n"
     ]
    },
    {
     "name": "stderr",
     "output_type": "stream",
     "text": [
      " 90%|█████████ | 18/20 [05:59<00:40, 20.07s/it]"
     ]
    },
    {
     "name": "stdout",
     "output_type": "stream",
     "text": [
      "los epoch 17 : tensor(0.8852, device='cuda:0')\n",
      "accuracy epoch 17 : 0.8626\n"
     ]
    },
    {
     "name": "stderr",
     "output_type": "stream",
     "text": [
      " 95%|█████████▌| 19/20 [06:20<00:20, 20.08s/it]"
     ]
    },
    {
     "name": "stdout",
     "output_type": "stream",
     "text": [
      "los epoch 18 : tensor(0.8698, device='cuda:0')\n",
      "accuracy epoch 18 : 0.8666\n"
     ]
    },
    {
     "name": "stderr",
     "output_type": "stream",
     "text": [
      "100%|██████████| 20/20 [06:40<00:00, 20.01s/it]"
     ]
    },
    {
     "name": "stdout",
     "output_type": "stream",
     "text": [
      "los epoch 19 : tensor(0.8680, device='cuda:0')\n",
      "accuracy epoch 19 : 0.8648\n",
      "[0.676, 0.7684, 0.7984, 0.8262, 0.8382, 0.8314, 0.8458, 0.8402, 0.8416, 0.8356, 0.8432, 0.842, 0.849, 0.847, 0.85, 0.854, 0.8572, 0.8626, 0.8666, 0.8648]\n",
      "[1.2920782707797156, 0.7407649960782793, 0.5348244596189923, 0.3962144962946574, 0.2840631113118596, 0.19597934087117513, 0.13997345238510106, 0.10474256494599912, 0.07421494653241502, 0.05627803102446099, 0.043319065819442684, 0.03765148820976416, 0.026050015497280078, 0.017741519402738454, 0.012314297323399741, 0.007544522899859456, 0.004567367982801645, 0.002193830633566702, 0.0007448179811884377, 0.0004099298823732372]\n"
     ]
    },
    {
     "name": "stderr",
     "output_type": "stream",
     "text": [
      "\n"
     ]
    }
   ],
   "source": [
    "for learning_rate in [0.001, 0.01, 0.1, 0.0005, 0.0002, 0.0001, 0.0003]:\n",
    "    key = 'schedule_' + str(learning_rate)\n",
    "    if key in test_accuracy_history_lion:\n",
    "        print(\"Already computed, ignoring\")\n",
    "        continue\n",
    "    \n",
    "    lenet = torchvision.models.resnet18(pretrained=False)\n",
    "    lenet.conv1 = torch.nn.Conv2d(3, 64, 3, 1, 1, bias=False)\n",
    "    lenet.maxpool = torch.nn.Identity()\n",
    "    lenet.cuda()\n",
    "    loss = torch.nn.CrossEntropyLoss()\n",
    "    \n",
    "    optimizer = Lion(lenet.parameters(), lr=learning_rate, weight_decay=0.01)\n",
    "    scheduler = torch.optim.lr_scheduler.CosineAnnealingLR(optimizer, T_max=20)\n",
    "    \n",
    "    test_loss_history_lion[key] = list()\n",
    "    test_accuracy_history_lion[key] = list()\n",
    "    loss_in_training_lion[key] = list()\n",
    "    time_learning_lion[key] = list()\n",
    "\n",
    "    for epoch in tqdm(range(20)):\n",
    "        \n",
    "        sum_los = 0\n",
    "        start_time = time.time()\n",
    "        \n",
    "        for i, data in enumerate(trainloader, 0):\n",
    "            \n",
    "            optimizer.zero_grad()\n",
    "\n",
    "            X_batch, y_batch = data\n",
    "            X_batch, y_batch = X_batch.cuda(), y_batch.cuda()\n",
    "\n",
    "            preds = lenet.forward(X_batch)\n",
    "\n",
    "            loss_value = loss(preds, y_batch)\n",
    "            loss_value.backward()\n",
    "            sum_los += float(loss_value)\n",
    "            optimizer.step()\n",
    "        \n",
    "        scheduler.step()\n",
    "        time_learning_lion[key].append(time.time() - start_time)\n",
    "        loss_in_training_lion[key].append(sum_los/450)\n",
    "        \n",
    "        correct = 0\n",
    "        total = 0\n",
    "        los = 0\n",
    "        with torch.no_grad():\n",
    "            for data in valloader:\n",
    "                images, labels = data\n",
    "                images, labels = images.cuda(), labels.cuda()\n",
    "                outputs = lenet.forward(images)\n",
    "                outputs = outputs.cuda()\n",
    "                _, predicted = torch.max(outputs.data, 1)\n",
    "                correct += (predicted == labels).sum().item()\n",
    "                loss_value = loss(outputs, labels)\n",
    "                total += labels.size(0)\n",
    "                los += loss_value\n",
    "                \n",
    "        test_loss_history_lion[key].append(los/50)\n",
    "        print('los epoch', epoch, ':', los/50)\n",
    "        \n",
    "        test_accuracy_history_lion[key].append(correct/total)\n",
    "        print('accuracy epoch', epoch, ':', correct/total)\n",
    "                \n",
    "            \n",
    "    print(test_accuracy_history_lion[key])\n",
    "    print(loss_in_training_lion[key])\n",
    "    with open('lion_big_results.pkl', 'wb') as f:\n",
    "        pickle.dump({\"acc\": test_accuracy_history_lion, \"loss\": test_loss_history_lion, \"loss_train\":loss_in_training_lion, \"time\":time_learning_lion}, f)"
   ]
  },
  {
   "cell_type": "code",
   "execution_count": 8,
   "id": "eec36009-019f-4abe-996f-01b6e251dc61",
   "metadata": {
    "execution": {
     "iopub.execute_input": "2023-04-16T18:32:37.343199Z",
     "iopub.status.busy": "2023-04-16T18:32:37.343001Z",
     "iopub.status.idle": "2023-04-16T18:32:37.346790Z",
     "shell.execute_reply": "2023-04-16T18:32:37.346181Z",
     "shell.execute_reply.started": "2023-04-16T18:32:37.343180Z"
    }
   },
   "outputs": [],
   "source": [
    "colors = ['r', 'b', 'g', 'k', 'm', 'c', 'y', 'orange', 'teal', 'cyan', 'purple', 'deeppink']"
   ]
  },
  {
   "cell_type": "code",
   "execution_count": 9,
   "id": "a99cdc32-7932-4310-9110-6da6ecc198df",
   "metadata": {
    "execution": {
     "iopub.execute_input": "2023-04-16T18:32:39.880565Z",
     "iopub.status.busy": "2023-04-16T18:32:39.880030Z",
     "iopub.status.idle": "2023-04-16T18:32:40.048215Z",
     "shell.execute_reply": "2023-04-16T18:32:40.047701Z",
     "shell.execute_reply.started": "2023-04-16T18:32:39.880541Z"
    }
   },
   "outputs": [
    {
     "data": {
      "image/png": "[encoded data removed]",
      "text/plain": [
       "<Figure size 1080x720 with 1 Axes>"
      ]
     },
     "metadata": {
      "needs_background": "light"
     },
     "output_type": "display_data"
    }
   ],
   "source": [
    "import matplotlib.pyplot as plt\n",
    "\n",
    "fig = plt.figure(figsize = (15, 10))\n",
    "plt.title('Зависимость точности от шага и коэффициента регуляризации', fontsize=15)\n",
    "plt.xlabel('Количество эпох', fontsize=15)\n",
    "plt.ylabel('Точность предсказания', fontsize=15)\n",
    "j = 0\n",
    "for param, accuracy in test_accuracy_history_lion.items():\n",
    "    plt.plot(range(1, 21), accuracy, label = \"Parametrs: \" + str(param), linewidth=2, color=colors[j])\n",
    "    j += 1\n",
    "plt.legend(fontsize = 15)\n",
    "plt.grid(True)"
   ]
  },
  {
   "cell_type": "code",
   "execution_count": 12,
   "id": "04384370-39df-4054-b7c2-0e96cc281bc6",
   "metadata": {
    "execution": {
     "iopub.execute_input": "2023-04-16T18:34:13.081539Z",
     "iopub.status.busy": "2023-04-16T18:34:13.081347Z",
     "iopub.status.idle": "2023-04-16T18:34:13.260155Z",
     "shell.execute_reply": "2023-04-16T18:34:13.259777Z",
     "shell.execute_reply.started": "2023-04-16T18:34:13.081520Z"
    }
   },
   "outputs": [
    {
     "data": {
      "image/png": "[encoded data removed]",
      "text/plain": [
       "<Figure size 1080x720 with 1 Axes>"
      ]
     },
     "metadata": {
      "needs_background": "light"
     },
     "output_type": "display_data"
    }
   ],
   "source": [
    "fig = plt.figure(figsize = (15, 10))\n",
    "plt.title('Зависимость потери от шага и коэффициента регуляризации на тестовой выборке', fontsize=15)\n",
    "plt.xlabel('Количество эпох', fontsize=15)\n",
    "plt.ylabel('Значение функции потерь', fontsize=15)\n",
    "j = 0\n",
    "for param, loss in test_loss_history_lion.items():\n",
    "    plt.plot(range(1, 21), list(map(lambda x: x.item(), loss)), label = \"Parametrs: \" + str(param), linewidth=2, color=colors[j])\n",
    "    j += 1\n",
    "plt.legend(fontsize = 15)\n",
    "plt.grid(True)"
   ]
  },
  {
   "cell_type": "code",
   "execution_count": 13,
   "id": "328e854e-b5ef-4c38-9f56-3e7cd684f491",
   "metadata": {
    "execution": {
     "iopub.execute_input": "2023-04-16T18:36:21.151747Z",
     "iopub.status.busy": "2023-04-16T18:36:21.151431Z",
     "iopub.status.idle": "2023-04-16T18:36:21.320859Z",
     "shell.execute_reply": "2023-04-16T18:36:21.320474Z",
     "shell.execute_reply.started": "2023-04-16T18:36:21.151700Z"
    }
   },
   "outputs": [
    {
     "data": {
      "image/png": "[encoded data removed]",
      "text/plain": [
       "<Figure size 1080x720 with 1 Axes>"
      ]
     },
     "metadata": {
      "needs_background": "light"
     },
     "output_type": "display_data"
    }
   ],
   "source": [
    "fig = plt.figure(figsize = (15, 10))\n",
    "plt.title('Зависимость потери от шага и коэффициента регуляризации на обучающей выборке', fontsize=15)\n",
    "plt.xlabel('Количество эпох', fontsize=15)\n",
    "plt.ylabel('Значение функции потерь', fontsize=15)\n",
    "j = 0\n",
    "for param, loss in loss_in_training_lion.items():\n",
    "    plt.plot(range(1, 21), loss, label = \"Parametrs: \" + str(param), linewidth=2, color=colors[j])\n",
    "    j += 1\n",
    "plt.legend(fontsize = 15)\n",
    "plt.grid(True)"
   ]
  },
  {
   "cell_type": "code",
   "execution_count": 14,
   "id": "31878973-b768-41b5-9524-c68cbae86edb",
   "metadata": {
    "execution": {
     "iopub.execute_input": "2023-04-16T18:39:17.930198Z",
     "iopub.status.busy": "2023-04-16T18:39:17.929970Z",
     "iopub.status.idle": "2023-04-16T18:39:19.472312Z",
     "shell.execute_reply": "2023-04-16T18:39:19.471711Z",
     "shell.execute_reply.started": "2023-04-16T18:39:17.930196Z"
    }
   },
   "outputs": [
    {
     "name": "stdout",
     "output_type": "stream",
     "text": [
      "Files already downloaded and verified\n",
      "Files already downloaded and verified\n"
     ]
    }
   ],
   "source": [
    "transform = transforms.Compose(\n",
    "    [transforms.ToTensor(),\n",
    "     transforms.Normalize((0.5, 0.5, 0.5), (0.5, 0.5, 0.5))])\n",
    "\n",
    "batch_size = 100\n",
    "\n",
    "trainset = torchvision.datasets.CIFAR10(root='./data', train=True,\n",
    "                                        download=True, transform=transform)\n",
    "trainloader = torch.utils.data.DataLoader(trainset, batch_size=batch_size,\n",
    "                                          shuffle=True, num_workers=2)\n",
    "\n",
    "testset = torchvision.datasets.CIFAR10(root='./data', train=False,\n",
    "                                       download=True, transform=transform)\n",
    "testloader = torch.utils.data.DataLoader(testset, batch_size=batch_size,\n",
    "                                         shuffle=False, num_workers=2)"
   ]
  },
  {
   "cell_type": "code",
   "execution_count": 15,
   "id": "f6821909-6944-4868-bdc1-ab22c6c692c9",
   "metadata": {
    "execution": {
     "iopub.execute_input": "2023-04-16T18:39:20.090005Z",
     "iopub.status.busy": "2023-04-16T18:39:20.089812Z",
     "iopub.status.idle": "2023-04-16T18:39:20.095313Z",
     "shell.execute_reply": "2023-04-16T18:39:20.094816Z",
     "shell.execute_reply.started": "2023-04-16T18:39:20.089986Z"
    }
   },
   "outputs": [],
   "source": [
    "trainset, valset = torch.utils.data.random_split(trainset, [46000, 4000])\n",
    "trainloader = torch.utils.data.DataLoader(trainset, batch_size=batch_size,\n",
    "                                          shuffle=True, num_workers=2)"
   ]
  },
  {
   "cell_type": "code",
   "execution_count": 16,
   "id": "4e51583a-d5c9-43c6-a45d-a98535ae43ca",
   "metadata": {
    "execution": {
     "iopub.execute_input": "2023-04-16T18:42:53.285058Z",
     "iopub.status.busy": "2023-04-16T18:42:53.284592Z",
     "iopub.status.idle": "2023-04-16T18:49:55.386774Z",
     "shell.execute_reply": "2023-04-16T18:49:55.386171Z",
     "shell.execute_reply.started": "2023-04-16T18:42:53.285036Z"
    }
   },
   "outputs": [
    {
     "name": "stderr",
     "output_type": "stream",
     "text": [
      "  5%|▌         | 1/20 [00:23<07:19, 23.11s/it]"
     ]
    },
    {
     "name": "stdout",
     "output_type": "stream",
     "text": [
      "los epoch 0 : tensor(0.9456, device='cuda:0')\n",
      "accuracy epoch 0 : 0.6612\n"
     ]
    },
    {
     "name": "stderr",
     "output_type": "stream",
     "text": [
      " 10%|█         | 2/20 [00:43<06:28, 21.58s/it]"
     ]
    },
    {
     "name": "stdout",
     "output_type": "stream",
     "text": [
      "los epoch 1 : tensor(0.7099, device='cuda:0')\n",
      "accuracy epoch 1 : 0.7513\n"
     ]
    },
    {
     "name": "stderr",
     "output_type": "stream",
     "text": [
      " 15%|█▌        | 3/20 [01:04<05:58, 21.12s/it]"
     ]
    },
    {
     "name": "stdout",
     "output_type": "stream",
     "text": [
      "los epoch 2 : tensor(0.6058, device='cuda:0')\n",
      "accuracy epoch 2 : 0.7882\n"
     ]
    },
    {
     "name": "stderr",
     "output_type": "stream",
     "text": [
      " 20%|██        | 4/20 [01:24<05:35, 20.96s/it]"
     ]
    },
    {
     "name": "stdout",
     "output_type": "stream",
     "text": [
      "los epoch 3 : tensor(0.5690, device='cuda:0')\n",
      "accuracy epoch 3 : 0.8114\n"
     ]
    },
    {
     "name": "stderr",
     "output_type": "stream",
     "text": [
      " 25%|██▌       | 5/20 [01:45<05:14, 20.97s/it]"
     ]
    },
    {
     "name": "stdout",
     "output_type": "stream",
     "text": [
      "los epoch 4 : tensor(0.5706, device='cuda:0')\n",
      "accuracy epoch 4 : 0.8194\n"
     ]
    },
    {
     "name": "stderr",
     "output_type": "stream",
     "text": [
      " 30%|███       | 6/20 [02:06<04:53, 20.97s/it]"
     ]
    },
    {
     "name": "stdout",
     "output_type": "stream",
     "text": [
      "los epoch 5 : tensor(0.6242, device='cuda:0')\n",
      "accuracy epoch 5 : 0.8219\n"
     ]
    },
    {
     "name": "stderr",
     "output_type": "stream",
     "text": [
      " 35%|███▌      | 7/20 [02:27<04:32, 20.97s/it]"
     ]
    },
    {
     "name": "stdout",
     "output_type": "stream",
     "text": [
      "los epoch 6 : tensor(0.6795, device='cuda:0')\n",
      "accuracy epoch 6 : 0.818\n"
     ]
    },
    {
     "name": "stderr",
     "output_type": "stream",
     "text": [
      " 40%|████      | 8/20 [02:48<04:12, 21.02s/it]"
     ]
    },
    {
     "name": "stdout",
     "output_type": "stream",
     "text": [
      "los epoch 7 : tensor(0.7107, device='cuda:0')\n",
      "accuracy epoch 7 : 0.8141\n"
     ]
    },
    {
     "name": "stderr",
     "output_type": "stream",
     "text": [
      " 45%|████▌     | 9/20 [03:10<03:51, 21.06s/it]"
     ]
    },
    {
     "name": "stdout",
     "output_type": "stream",
     "text": [
      "los epoch 8 : tensor(0.7423, device='cuda:0')\n",
      "accuracy epoch 8 : 0.8267\n"
     ]
    },
    {
     "name": "stderr",
     "output_type": "stream",
     "text": [
      " 50%|█████     | 10/20 [03:31<03:30, 21.08s/it]"
     ]
    },
    {
     "name": "stdout",
     "output_type": "stream",
     "text": [
      "los epoch 9 : tensor(0.7438, device='cuda:0')\n",
      "accuracy epoch 9 : 0.8213\n"
     ]
    },
    {
     "name": "stderr",
     "output_type": "stream",
     "text": [
      " 55%|█████▌    | 11/20 [03:52<03:09, 21.09s/it]"
     ]
    },
    {
     "name": "stdout",
     "output_type": "stream",
     "text": [
      "los epoch 10 : tensor(0.7908, device='cuda:0')\n",
      "accuracy epoch 10 : 0.8234\n"
     ]
    },
    {
     "name": "stderr",
     "output_type": "stream",
     "text": [
      " 60%|██████    | 12/20 [04:13<02:48, 21.10s/it]"
     ]
    },
    {
     "name": "stdout",
     "output_type": "stream",
     "text": [
      "los epoch 11 : tensor(0.8313, device='cuda:0')\n",
      "accuracy epoch 11 : 0.8191\n"
     ]
    },
    {
     "name": "stderr",
     "output_type": "stream",
     "text": [
      " 65%|██████▌   | 13/20 [04:34<02:27, 21.09s/it]"
     ]
    },
    {
     "name": "stdout",
     "output_type": "stream",
     "text": [
      "los epoch 12 : tensor(0.8238, device='cuda:0')\n",
      "accuracy epoch 12 : 0.821\n"
     ]
    },
    {
     "name": "stderr",
     "output_type": "stream",
     "text": [
      " 70%|███████   | 14/20 [04:55<02:06, 21.07s/it]"
     ]
    },
    {
     "name": "stdout",
     "output_type": "stream",
     "text": [
      "los epoch 13 : tensor(0.8441, device='cuda:0')\n",
      "accuracy epoch 13 : 0.8202\n"
     ]
    },
    {
     "name": "stderr",
     "output_type": "stream",
     "text": [
      " 75%|███████▌  | 15/20 [05:16<01:45, 21.06s/it]"
     ]
    },
    {
     "name": "stdout",
     "output_type": "stream",
     "text": [
      "los epoch 14 : tensor(0.8531, device='cuda:0')\n",
      "accuracy epoch 14 : 0.8229\n"
     ]
    },
    {
     "name": "stderr",
     "output_type": "stream",
     "text": [
      " 80%|████████  | 16/20 [05:37<01:24, 21.05s/it]"
     ]
    },
    {
     "name": "stdout",
     "output_type": "stream",
     "text": [
      "los epoch 15 : tensor(0.8526, device='cuda:0')\n",
      "accuracy epoch 15 : 0.8289\n"
     ]
    },
    {
     "name": "stderr",
     "output_type": "stream",
     "text": [
      " 85%|████████▌ | 17/20 [05:58<01:03, 21.03s/it]"
     ]
    },
    {
     "name": "stdout",
     "output_type": "stream",
     "text": [
      "los epoch 16 : tensor(0.8820, device='cuda:0')\n",
      "accuracy epoch 16 : 0.8237\n"
     ]
    },
    {
     "name": "stderr",
     "output_type": "stream",
     "text": [
      " 90%|█████████ | 18/20 [06:19<00:42, 21.02s/it]"
     ]
    },
    {
     "name": "stdout",
     "output_type": "stream",
     "text": [
      "los epoch 17 : tensor(0.8839, device='cuda:0')\n",
      "accuracy epoch 17 : 0.8253\n"
     ]
    },
    {
     "name": "stderr",
     "output_type": "stream",
     "text": [
      " 95%|█████████▌| 19/20 [06:40<00:20, 20.99s/it]"
     ]
    },
    {
     "name": "stdout",
     "output_type": "stream",
     "text": [
      "los epoch 18 : tensor(0.9139, device='cuda:0')\n",
      "accuracy epoch 18 : 0.825\n"
     ]
    },
    {
     "name": "stderr",
     "output_type": "stream",
     "text": [
      "100%|██████████| 20/20 [07:01<00:00, 21.07s/it]"
     ]
    },
    {
     "name": "stdout",
     "output_type": "stream",
     "text": [
      "los epoch 19 : tensor(0.9243, device='cuda:0')\n",
      "accuracy epoch 19 : 0.825\n",
      "[0.6612, 0.7513, 0.7882, 0.8114, 0.8194, 0.8219, 0.818, 0.8141, 0.8267, 0.8213, 0.8234, 0.8191, 0.821, 0.8202, 0.8229, 0.8289, 0.8237, 0.8253, 0.825, 0.825]\n",
      "[1.4756395317938016, 0.7690538112883982, 0.5342164014992506, 0.393455901839163, 0.277386522260697, 0.19615288114418153, 0.14970014044286117, 0.12155991060173382, 0.0996447776120318, 0.08943446530839023, 0.08249724584874575, 0.0736176113344972, 0.06877824376418215, 0.061157304889765444, 0.05838879186903005, 0.05324206219317958, 0.050135975975907694, 0.04731599696071657, 0.0439514391053387, 0.04289500401216134]\n"
     ]
    },
    {
     "name": "stderr",
     "output_type": "stream",
     "text": [
      "\n"
     ]
    }
   ],
   "source": [
    "lenet = torchvision.models.resnet18(pretrained=False)\n",
    "lenet.conv1 = torch.nn.Conv2d(3, 64, 3, 1, 1, bias=False)\n",
    "lenet.maxpool = torch.nn.Identity()\n",
    "lenet.cuda()\n",
    "loss = torch.nn.CrossEntropyLoss()\n",
    "\n",
    "optimizer = Lion(lenet.parameters(), lr=0.0001, weight_decay=0.01)\n",
    "\n",
    "test_loss_history_lion = list()\n",
    "test_accuracy_history_lion = list()\n",
    "loss_in_training_lion = list()\n",
    "time_learning_lion = list()\n",
    "\n",
    "for epoch in tqdm(range(20)):\n",
    "\n",
    "    sum_los = 0\n",
    "    start_time = time.time()\n",
    "\n",
    "    for i, data in enumerate(trainloader, 0):\n",
    "\n",
    "        optimizer.zero_grad()\n",
    "\n",
    "        X_batch, y_batch = data\n",
    "        X_batch, y_batch = X_batch.cuda(), y_batch.cuda()\n",
    "\n",
    "        preds = lenet.forward(X_batch)\n",
    "\n",
    "        loss_value = loss(preds, y_batch)\n",
    "        loss_value.backward()\n",
    "        sum_los += float(loss_value)\n",
    "        optimizer.step()\n",
    "\n",
    "    time_learning_lion.append(time.time() - start_time)\n",
    "    loss_in_training_lion.append(sum_los/460)\n",
    "\n",
    "    correct = 0\n",
    "    total = 0\n",
    "    los = 0\n",
    "    \n",
    "    with torch.no_grad():\n",
    "        for data in testloader:\n",
    "            images, labels = data\n",
    "            images, labels = images.cuda(), labels.cuda()\n",
    "            outputs = lenet.forward(images)\n",
    "            outputs = outputs.cuda()\n",
    "            _, predicted = torch.max(outputs.data, 1)\n",
    "            correct += (predicted == labels).sum().item()\n",
    "            loss_value = loss(outputs, labels)\n",
    "            total += labels.size(0)\n",
    "            los += loss_value\n",
    "\n",
    "\n",
    "    test_loss_history_lion.append(los/100)\n",
    "    print('los epoch', epoch, ':', los/100)\n",
    "\n",
    "    test_accuracy_history_lion.append(correct/total)\n",
    "    print('accuracy epoch', epoch, ':', correct/total)\n",
    "\n",
    "print(test_accuracy_history_lion)\n",
    "print(loss_in_training_lion)\n",
    "with open('lion_bresults.pkl', 'wb') as f:\n",
    "    pickle.dump({\"acc\": test_accuracy_history_lion, \"loss\": test_loss_history_lion, \"loss_train\":loss_in_training_lion, \"time\":time_learning_lion}, f)"
   ]
  },
  {
   "cell_type": "code",
   "execution_count": 20,
   "id": "b192acfb-b67a-4d92-bdab-129ebf512ae1",
   "metadata": {
    "execution": {
     "iopub.execute_input": "2023-04-16T20:39:48.040591Z",
     "iopub.status.busy": "2023-04-16T20:39:48.040365Z",
     "iopub.status.idle": "2023-04-16T20:39:49.608409Z",
     "shell.execute_reply": "2023-04-16T20:39:49.607813Z",
     "shell.execute_reply.started": "2023-04-16T20:39:48.040571Z"
    }
   },
   "outputs": [
    {
     "name": "stdout",
     "output_type": "stream",
     "text": [
      "Files already downloaded and verified\n",
      "Files already downloaded and verified\n"
     ]
    }
   ],
   "source": [
    "transform = transforms.Compose(\n",
    "    [transforms.ToTensor(),\n",
    "     transforms.Normalize((0.5, 0.5, 0.5), (0.5, 0.5, 0.5))])\n",
    "\n",
    "batch_size = 100\n",
    "\n",
    "trainset = torchvision.datasets.CIFAR10(root='./data', train=True,\n",
    "                                        download=True, transform=transform)\n",
    "trainloader = torch.utils.data.DataLoader(trainset, batch_size=batch_size,\n",
    "                                          shuffle=True, num_workers=2)\n",
    "\n",
    "testset = torchvision.datasets.CIFAR10(root='./data', train=False,\n",
    "                                       download=True, transform=transform)\n",
    "testloader = torch.utils.data.DataLoader(testset, batch_size=batch_size,\n",
    "                                         shuffle=False, num_workers=2)"
   ]
  },
  {
   "cell_type": "code",
   "execution_count": 21,
   "id": "33ca7604-bc45-4c9f-b8d3-d6f785be8b36",
   "metadata": {
    "execution": {
     "iopub.execute_input": "2023-04-16T20:39:50.309501Z",
     "iopub.status.busy": "2023-04-16T20:39:50.308947Z",
     "iopub.status.idle": "2023-04-16T20:39:50.319144Z",
     "shell.execute_reply": "2023-04-16T20:39:50.318436Z",
     "shell.execute_reply.started": "2023-04-16T20:39:50.309478Z"
    }
   },
   "outputs": [],
   "source": [
    "trainset, valset = torch.utils.data.random_split(trainset, [46000, 4000])\n",
    "trainloader = torch.utils.data.DataLoader(trainset, batch_size=batch_size,\n",
    "                                          shuffle=True, num_workers=2)"
   ]
  },
  {
   "cell_type": "code",
   "execution_count": 22,
   "id": "0bd2d10f-5cc8-43b8-b142-9f59de3d52de",
   "metadata": {
    "execution": {
     "iopub.execute_input": "2023-04-16T20:39:56.210521Z",
     "iopub.status.busy": "2023-04-16T20:39:56.210215Z",
     "iopub.status.idle": "2023-04-16T20:46:57.429914Z",
     "shell.execute_reply": "2023-04-16T20:46:57.429226Z",
     "shell.execute_reply.started": "2023-04-16T20:39:56.210521Z"
    }
   },
   "outputs": [
    {
     "name": "stderr",
     "output_type": "stream",
     "text": [
      "  5%|▌         | 1/20 [00:20<06:32, 20.65s/it]"
     ]
    },
    {
     "name": "stdout",
     "output_type": "stream",
     "text": [
      "los epoch 0 : tensor(0.8727, device='cuda:0')\n",
      "accuracy epoch 0 : 0.6879\n"
     ]
    },
    {
     "name": "stderr",
     "output_type": "stream",
     "text": [
      " 10%|█         | 2/20 [00:41<06:14, 20.80s/it]"
     ]
    },
    {
     "name": "stdout",
     "output_type": "stream",
     "text": [
      "los epoch 1 : tensor(0.6529, device='cuda:0')\n",
      "accuracy epoch 1 : 0.7756\n"
     ]
    },
    {
     "name": "stderr",
     "output_type": "stream",
     "text": [
      " 15%|█▌        | 3/20 [01:02<05:55, 20.89s/it]"
     ]
    },
    {
     "name": "stdout",
     "output_type": "stream",
     "text": [
      "los epoch 2 : tensor(0.5661, device='cuda:0')\n",
      "accuracy epoch 2 : 0.8058\n"
     ]
    },
    {
     "name": "stderr",
     "output_type": "stream",
     "text": [
      " 20%|██        | 4/20 [01:23<05:35, 20.94s/it]"
     ]
    },
    {
     "name": "stdout",
     "output_type": "stream",
     "text": [
      "los epoch 3 : tensor(0.5325, device='cuda:0')\n",
      "accuracy epoch 3 : 0.8259\n"
     ]
    },
    {
     "name": "stderr",
     "output_type": "stream",
     "text": [
      " 25%|██▌       | 5/20 [01:44<05:15, 21.01s/it]"
     ]
    },
    {
     "name": "stdout",
     "output_type": "stream",
     "text": [
      "los epoch 4 : tensor(0.5447, device='cuda:0')\n",
      "accuracy epoch 4 : 0.8283\n"
     ]
    },
    {
     "name": "stderr",
     "output_type": "stream",
     "text": [
      " 30%|███       | 6/20 [02:05<04:54, 21.04s/it]"
     ]
    },
    {
     "name": "stdout",
     "output_type": "stream",
     "text": [
      "los epoch 5 : tensor(0.5779, device='cuda:0')\n",
      "accuracy epoch 5 : 0.8314\n"
     ]
    },
    {
     "name": "stderr",
     "output_type": "stream",
     "text": [
      " 35%|███▌      | 7/20 [02:26<04:34, 21.08s/it]"
     ]
    },
    {
     "name": "stdout",
     "output_type": "stream",
     "text": [
      "los epoch 6 : tensor(0.6448, device='cuda:0')\n",
      "accuracy epoch 6 : 0.8312\n"
     ]
    },
    {
     "name": "stderr",
     "output_type": "stream",
     "text": [
      " 40%|████      | 8/20 [02:48<04:13, 21.09s/it]"
     ]
    },
    {
     "name": "stdout",
     "output_type": "stream",
     "text": [
      "los epoch 7 : tensor(0.7004, device='cuda:0')\n",
      "accuracy epoch 7 : 0.8366\n"
     ]
    },
    {
     "name": "stderr",
     "output_type": "stream",
     "text": [
      " 45%|████▌     | 9/20 [03:09<03:52, 21.12s/it]"
     ]
    },
    {
     "name": "stdout",
     "output_type": "stream",
     "text": [
      "los epoch 8 : tensor(0.7285, device='cuda:0')\n",
      "accuracy epoch 8 : 0.8366\n"
     ]
    },
    {
     "name": "stderr",
     "output_type": "stream",
     "text": [
      " 50%|█████     | 10/20 [03:30<03:31, 21.10s/it]"
     ]
    },
    {
     "name": "stdout",
     "output_type": "stream",
     "text": [
      "los epoch 9 : tensor(0.7863, device='cuda:0')\n",
      "accuracy epoch 9 : 0.8353\n"
     ]
    },
    {
     "name": "stderr",
     "output_type": "stream",
     "text": [
      " 55%|█████▌    | 11/20 [03:51<03:09, 21.11s/it]"
     ]
    },
    {
     "name": "stdout",
     "output_type": "stream",
     "text": [
      "los epoch 10 : tensor(0.8295, device='cuda:0')\n",
      "accuracy epoch 10 : 0.8393\n"
     ]
    },
    {
     "name": "stderr",
     "output_type": "stream",
     "text": [
      " 60%|██████    | 12/20 [04:12<02:48, 21.08s/it]"
     ]
    },
    {
     "name": "stdout",
     "output_type": "stream",
     "text": [
      "los epoch 11 : tensor(0.8594, device='cuda:0')\n",
      "accuracy epoch 11 : 0.8415\n"
     ]
    },
    {
     "name": "stderr",
     "output_type": "stream",
     "text": [
      " 65%|██████▌   | 13/20 [04:33<02:27, 21.07s/it]"
     ]
    },
    {
     "name": "stdout",
     "output_type": "stream",
     "text": [
      "los epoch 12 : tensor(0.9020, device='cuda:0')\n",
      "accuracy epoch 12 : 0.8397\n"
     ]
    },
    {
     "name": "stderr",
     "output_type": "stream",
     "text": [
      " 70%|███████   | 14/20 [04:54<02:06, 21.08s/it]"
     ]
    },
    {
     "name": "stdout",
     "output_type": "stream",
     "text": [
      "los epoch 13 : tensor(0.8938, device='cuda:0')\n",
      "accuracy epoch 13 : 0.8466\n"
     ]
    },
    {
     "name": "stderr",
     "output_type": "stream",
     "text": [
      " 75%|███████▌  | 15/20 [05:15<01:45, 21.07s/it]"
     ]
    },
    {
     "name": "stdout",
     "output_type": "stream",
     "text": [
      "los epoch 14 : tensor(0.9370, device='cuda:0')\n",
      "accuracy epoch 14 : 0.8475\n"
     ]
    },
    {
     "name": "stderr",
     "output_type": "stream",
     "text": [
      " 80%|████████  | 16/20 [05:36<01:24, 21.05s/it]"
     ]
    },
    {
     "name": "stdout",
     "output_type": "stream",
     "text": [
      "los epoch 15 : tensor(0.9507, device='cuda:0')\n",
      "accuracy epoch 15 : 0.8535\n"
     ]
    },
    {
     "name": "stderr",
     "output_type": "stream",
     "text": [
      " 85%|████████▌ | 17/20 [05:57<01:03, 21.06s/it]"
     ]
    },
    {
     "name": "stdout",
     "output_type": "stream",
     "text": [
      "los epoch 16 : tensor(0.9566, device='cuda:0')\n",
      "accuracy epoch 16 : 0.8529\n"
     ]
    },
    {
     "name": "stderr",
     "output_type": "stream",
     "text": [
      " 90%|█████████ | 18/20 [06:18<00:42, 21.07s/it]"
     ]
    },
    {
     "name": "stdout",
     "output_type": "stream",
     "text": [
      "los epoch 17 : tensor(0.9699, device='cuda:0')\n",
      "accuracy epoch 17 : 0.8538\n"
     ]
    },
    {
     "name": "stderr",
     "output_type": "stream",
     "text": [
      " 95%|█████████▌| 19/20 [06:39<00:21, 21.06s/it]"
     ]
    },
    {
     "name": "stdout",
     "output_type": "stream",
     "text": [
      "los epoch 18 : tensor(0.9480, device='cuda:0')\n",
      "accuracy epoch 18 : 0.8578\n"
     ]
    },
    {
     "name": "stderr",
     "output_type": "stream",
     "text": [
      "100%|██████████| 20/20 [07:01<00:00, 21.05s/it]"
     ]
    },
    {
     "name": "stdout",
     "output_type": "stream",
     "text": [
      "los epoch 19 : tensor(0.9474, device='cuda:0')\n",
      "accuracy epoch 19 : 0.8581\n",
      "[0.6879, 0.7756, 0.8058, 0.8259, 0.8283, 0.8314, 0.8312, 0.8366, 0.8366, 0.8353, 0.8393, 0.8415, 0.8397, 0.8466, 0.8475, 0.8535, 0.8529, 0.8538, 0.8578, 0.8581]\n",
      "[1.2751741020575813, 0.711213939215826, 0.5063628509640694, 0.3766609543367572, 0.2687930299050134, 0.1899460812787647, 0.13239074491531305, 0.09677591837902108, 0.07667113801909854, 0.05720152202234401, 0.04364123876894946, 0.035110685876418794, 0.024963159113742774, 0.018757590318969248, 0.012367101256171261, 0.0064652367499587375, 0.0037480591601943953, 0.0018691276565258033, 0.000682235742628425, 0.00038503737375875693]\n"
     ]
    },
    {
     "name": "stderr",
     "output_type": "stream",
     "text": [
      "\n"
     ]
    }
   ],
   "source": [
    "lenet = torchvision.models.resnet18(pretrained=False)\n",
    "lenet.conv1 = torch.nn.Conv2d(3, 64, 3, 1, 1, bias=False)\n",
    "lenet.maxpool = torch.nn.Identity()\n",
    "lenet.cuda()\n",
    "loss = torch.nn.CrossEntropyLoss()\n",
    "\n",
    "optimizer = Lion(lenet.parameters(), lr=0.0003, weight_decay=0.01)\n",
    "scheduler = torch.optim.lr_scheduler.CosineAnnealingLR(optimizer, T_max=20)\n",
    "\n",
    "test_loss_history_lion = list()\n",
    "test_accuracy_history_lion = list()\n",
    "loss_in_training_lion = list()\n",
    "time_learning_lion = list()\n",
    "\n",
    "for epoch in tqdm(range(20)):\n",
    "\n",
    "    sum_los = 0\n",
    "    start_time = time.time()\n",
    "\n",
    "    for i, data in enumerate(trainloader, 0):\n",
    "\n",
    "        optimizer.zero_grad()\n",
    "\n",
    "        X_batch, y_batch = data\n",
    "        X_batch, y_batch = X_batch.cuda(), y_batch.cuda()\n",
    "\n",
    "        preds = lenet.forward(X_batch)\n",
    "\n",
    "        loss_value = loss(preds, y_batch)\n",
    "        loss_value.backward()\n",
    "        sum_los += float(loss_value)\n",
    "        optimizer.step()\n",
    "\n",
    "    scheduler.step()\n",
    "    time_learning_lion.append(time.time() - start_time)\n",
    "    loss_in_training_lion.append(sum_los/460)\n",
    "\n",
    "    correct = 0\n",
    "    total = 0\n",
    "    los = 0\n",
    "    \n",
    "    with torch.no_grad():\n",
    "        for data in testloader:\n",
    "            images, labels = data\n",
    "            images, labels = images.cuda(), labels.cuda()\n",
    "            outputs = lenet.forward(images)\n",
    "            outputs = outputs.cuda()\n",
    "            _, predicted = torch.max(outputs.data, 1)\n",
    "            correct += (predicted == labels).sum().item()\n",
    "            loss_value = loss(outputs, labels)\n",
    "            total += labels.size(0)\n",
    "            los += loss_value\n",
    "\n",
    "\n",
    "    test_loss_history_lion.append(los/100)\n",
    "    print('los epoch', epoch, ':', los/100)\n",
    "\n",
    "    test_accuracy_history_lion.append(correct/total)\n",
    "    print('accuracy epoch', epoch, ':', correct/total)\n",
    "\n",
    "print(test_accuracy_history_lion)\n",
    "print(loss_in_training_lion)\n",
    "with open('lion_bresults_scheduler.pkl', 'wb') as f:\n",
    "    pickle.dump({\"acc\": test_accuracy_history_lion, \"loss\": test_loss_history_lion, \"loss_train\":loss_in_training_lion, \"time\":time_learning_lion}, f)"
   ]
  },
  {
   "cell_type": "code",
   "execution_count": 17,
   "id": "bac2561b-14eb-4b6e-adbc-31d215749d16",
   "metadata": {
    "execution": {
     "iopub.execute_input": "2023-04-16T18:53:23.506046Z",
     "iopub.status.busy": "2023-04-16T18:53:23.505588Z",
     "iopub.status.idle": "2023-04-16T18:53:25.117098Z",
     "shell.execute_reply": "2023-04-16T18:53:25.116565Z",
     "shell.execute_reply.started": "2023-04-16T18:53:23.506024Z"
    }
   },
   "outputs": [
    {
     "name": "stdout",
     "output_type": "stream",
     "text": [
      "Files already downloaded and verified\n",
      "Files already downloaded and verified\n"
     ]
    }
   ],
   "source": [
    "transform = transforms.Compose(\n",
    "    [transforms.ToTensor(),\n",
    "     transforms.Normalize((0.5, 0.5, 0.5), (0.5, 0.5, 0.5))])\n",
    "\n",
    "batch_size = 100\n",
    "\n",
    "trainset = torchvision.datasets.CIFAR10(root='./data', train=True,\n",
    "                                        download=True, transform=transform)\n",
    "trainloader = torch.utils.data.DataLoader(trainset, batch_size=batch_size,\n",
    "                                          shuffle=True, num_workers=2)\n",
    "\n",
    "testset = torchvision.datasets.CIFAR10(root='./data', train=False,\n",
    "                                       download=True, transform=transform)\n",
    "testloader = torch.utils.data.DataLoader(testset, batch_size=batch_size,\n",
    "                                         shuffle=False, num_workers=2)"
   ]
  },
  {
   "cell_type": "code",
   "execution_count": 18,
   "id": "ba0e0d24-73f7-4f28-a0a0-275b098a91b0",
   "metadata": {
    "execution": {
     "iopub.execute_input": "2023-04-16T18:53:26.142196Z",
     "iopub.status.busy": "2023-04-16T18:53:26.142006Z",
     "iopub.status.idle": "2023-04-16T18:53:26.151247Z",
     "shell.execute_reply": "2023-04-16T18:53:26.150398Z",
     "shell.execute_reply.started": "2023-04-16T18:53:26.142178Z"
    }
   },
   "outputs": [],
   "source": [
    "trainset, valset = torch.utils.data.random_split(trainset, [46000, 4000])\n",
    "trainloader = torch.utils.data.DataLoader(trainset, batch_size=batch_size,\n",
    "                                          shuffle=True, num_workers=2)"
   ]
  },
  {
   "cell_type": "code",
   "execution_count": 19,
   "id": "5a47202c-1355-4b20-95d2-cbd37499bdd3",
   "metadata": {
    "execution": {
     "iopub.execute_input": "2023-04-16T18:53:29.998443Z",
     "iopub.status.busy": "2023-04-16T18:53:29.998247Z",
     "iopub.status.idle": "2023-04-16T18:54:10.790145Z",
     "shell.execute_reply": "2023-04-16T18:54:10.789512Z",
     "shell.execute_reply.started": "2023-04-16T18:53:29.998418Z"
    }
   },
   "outputs": [
    {
     "name": "stdout",
     "output_type": "stream",
     "text": [
      "los epoch: tensor(0.9370, device='cuda:0')\n",
      "accuracy epoch: 0.6659\n",
      "los epoch: tensor(0.7015, device='cuda:0')\n",
      "accuracy epoch: 0.7514\n",
      "[0.6659, 0.7514]\n",
      "[1.4546896817891495, 0.7457766914497251]\n"
     ]
    }
   ],
   "source": [
    "lenet = torchvision.models.resnet18(pretrained=False)\n",
    "lenet.conv1 = torch.nn.Conv2d(3, 64, 3, 1, 1, bias=False)\n",
    "lenet.maxpool = torch.nn.Identity()\n",
    "lenet.cuda()\n",
    "loss = torch.nn.CrossEntropyLoss()\n",
    "\n",
    "optimizer = Lion(lenet.parameters(), lr=0.0001, weight_decay=0.01)\n",
    "\n",
    "test_loss_history_lion = list()\n",
    "test_accuracy_history_lion = list()\n",
    "loss_in_training_lion = list()\n",
    "time_learning_lion = list()\n",
    "\n",
    "test_accuracy = 0\n",
    "\n",
    "while test_accuracy <= 0.75:\n",
    "\n",
    "    sum_los = 0\n",
    "    start_time = time.time()\n",
    "\n",
    "    for i, data in enumerate(trainloader, 0):\n",
    "\n",
    "        optimizer.zero_grad()\n",
    "\n",
    "        X_batch, y_batch = data\n",
    "        X_batch, y_batch = X_batch.cuda(), y_batch.cuda()\n",
    "\n",
    "        preds = lenet.forward(X_batch)\n",
    "\n",
    "        loss_value = loss(preds, y_batch)\n",
    "        loss_value.backward()\n",
    "        sum_los += float(loss_value)\n",
    "        optimizer.step()\n",
    "\n",
    "    time_learning_lion.append(time.time() - start_time)\n",
    "    loss_in_training_lion.append(sum_los/460)\n",
    "\n",
    "    correct = 0\n",
    "    total = 0\n",
    "    los = 0\n",
    "    \n",
    "    with torch.no_grad():\n",
    "        for data in testloader:\n",
    "            images, labels = data\n",
    "            images, labels = images.cuda(), labels.cuda()\n",
    "            outputs = lenet.forward(images)\n",
    "            outputs = outputs.cuda()\n",
    "            _, predicted = torch.max(outputs.data, 1)\n",
    "            correct += (predicted == labels).sum().item()\n",
    "            loss_value = loss(outputs, labels)\n",
    "            total += labels.size(0)\n",
    "            los += loss_value\n",
    "\n",
    "\n",
    "    test_loss_history_lion.append(los/100)\n",
    "    print('los epoch:', los/100)\n",
    "\n",
    "    test_accuracy = correct/total\n",
    "    test_accuracy_history_lion.append(test_accuracy)\n",
    "    print('accuracy epoch:', test_accuracy)\n",
    "\n",
    "print(test_accuracy_history_lion)\n",
    "print(loss_in_training_lion)\n",
    "with open('lion_bresults_75.pkl', 'wb') as f:\n",
    "    pickle.dump({\"acc\": test_accuracy_history_lion, \"loss\": test_loss_history_lion, \"loss_train\":loss_in_training_lion, \"time\":time_learning_lion}, f)"
   ]
  },
  {
   "cell_type": "code",
   "execution_count": null,
   "id": "a5ba018f-41d2-4efc-95c2-740c73110042",
   "metadata": {},
   "outputs": [],
   "source": []
  }
 ],
 "metadata": {
  "kernelspec": {
   "display_name": "Python 3 (ipykernel)",
   "language": "python",
   "name": "python3"
  },
  "language_info": {
   "codemirror_mode": {
    "name": "ipython",
    "version": 3
   },
   "file_extension": ".py",
   "mimetype": "text/x-python",
   "name": "python",
   "nbconvert_exporter": "python",
   "pygments_lexer": "ipython3",
   "version": "3.8.12"
  }
 },
 "nbformat": 4,
 "nbformat_minor": 5
}
